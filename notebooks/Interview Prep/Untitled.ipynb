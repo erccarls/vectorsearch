{
 "cells": [
  {
   "cell_type": "code",
   "execution_count": 12,
   "metadata": {
    "collapsed": false
   },
   "outputs": [
    {
     "name": "stdout",
     "output_type": "stream",
     "text": [
      "['payload', 1, 'left', '[\\'payload\\', 2, \\'left\\', \"[\\'payload\\', 4, \\'left\\', \\'None\\', \\'right\\', \\'None\\']\", \\'right\\', \\'None\\']', 'right', \"['payload', 3, 'left', 'None', 'right', 'None']\"]\n"
     ]
    }
   ],
   "source": [
    "class Tree():\n",
    "    def __init__(self, payload, left=None, right=None):\n",
    "        self.left = left\n",
    "        self.right = right \n",
    "        self.payload = payload\n",
    "        \n",
    "    def AddChild(self, Tree):\n",
    "        if self.left is None:\n",
    "            self.left = Tree\n",
    "        elif self.right is None:\n",
    "            self.right = Tree\n",
    "        else: \n",
    "            self.left.AddChild(Tree)\n",
    "    def __str__(self):\n",
    "        return str(['payload', self.payload, 'left', self.left.__str__(), 'right', self.right.__str__()])\n",
    "        \n",
    "        \n",
    "        \n",
    "        \n",
    "t = Tree(1)\n",
    "t.AddChild(Tree(2))\n",
    "t.AddChild(Tree(3))\n",
    "t.AddChild(Tree(4))\n",
    "\n",
    "print t\n",
    "        \n",
    "    "
   ]
  },
  {
   "cell_type": "code",
   "execution_count": 15,
   "metadata": {
    "collapsed": false
   },
   "outputs": [
    {
     "data": {
      "text/plain": [
       "0.6994535519125683"
      ]
     },
     "execution_count": 15,
     "metadata": {},
     "output_type": "execute_result"
    }
   ],
   "source": [
    "1/(1+55/128.)"
   ]
  },
  {
   "cell_type": "code",
   "execution_count": null,
   "metadata": {
    "collapsed": true
   },
   "outputs": [],
   "source": []
  }
 ],
 "metadata": {
  "kernelspec": {
   "display_name": "Python 2",
   "language": "python",
   "name": "python2"
  },
  "language_info": {
   "codemirror_mode": {
    "name": "ipython",
    "version": 2
   },
   "file_extension": ".py",
   "mimetype": "text/x-python",
   "name": "python",
   "nbconvert_exporter": "python",
   "pygments_lexer": "ipython2",
   "version": "2.7.11"
  }
 },
 "nbformat": 4,
 "nbformat_minor": 0
}
