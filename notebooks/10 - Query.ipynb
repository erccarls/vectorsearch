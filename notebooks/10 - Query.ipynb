{
 "cells": [
  {
   "cell_type": "code",
   "execution_count": 64,
   "metadata": {
    "collapsed": false
   },
   "outputs": [
    {
     "data": {
      "text/plain": [
       "['any-bars', 'around', 'town']"
      ]
     },
     "execution_count": 64,
     "metadata": {},
     "output_type": "execute_result"
    }
   ],
   "source": [
    "import sys\n",
    "sys.path.append('../vectorsearch/')\n",
    "import nltk_helper\n",
    "#reload(nltk_helper)\n",
    "\n",
    "nltk_helper.clean_nltk('Are there any-bars around town?!?!?!')    "
   ]
  },
  {
   "cell_type": "code",
   "execution_count": 93,
   "metadata": {
    "collapsed": false
   },
   "outputs": [
    {
     "name": "stdout",
     "output_type": "stream",
     "text": [
      "{'music': 1.0, 'dive-bar': [1.0, 10.0]}\n"
     ]
    }
   ],
   "source": [
    "import sys\n",
    "sys.path.append('../vectorsearch/')\n",
    "import nltk_helper\n",
    "def parse_query(query):\n",
    "    '''\n",
    "    Parse the search string which must follow a dict specification format, \n",
    "    *Must* use semicolons to separate entries.\n",
    "    e.g. query = \"dive bar:5 ; music : [1,4] ; expensive : -1 \"\n",
    "    \n",
    "    query : str\n",
    "        Search string\n",
    "    '''\n",
    "    try: \n",
    "        terms = query.split(';')\n",
    "        query_dict = {}\n",
    "        for term in terms: \n",
    "            key, val = term.split(':')\n",
    "            key = nltk_helper.clean_nltk(key)[0]\n",
    "\n",
    "            if \"[\" in val and \"]\" in val: \n",
    "                val = val.replace('[','').replace(']','').split(\",\")\n",
    "                try:\n",
    "                    val = [float(weight) for weight in val]\n",
    "                    query_dict[key] = val\n",
    "                except: \n",
    "                    print 'Warning, value for key %s could not be parsed'%key\n",
    "            # If just a floating point number..\n",
    "            else: \n",
    "                try: \n",
    "                    val = float(val)\n",
    "                    query_dict[key] = val\n",
    "                except: \n",
    "                    print 'Warning, value for key %s could not be parsed'%key\n",
    "    except: \n",
    "        print 'Sorry... invalid query try again.  example: \"dive bar:5 ; music : [1,4] ; expensive : -1 \"'\n",
    "    return query_dict\n",
    "\n",
    "\n",
    "\n",
    "if __name__=='__main__':\n",
    "    print parse_query('dive bar : [1,10] ; music:1 ')\n",
    "    \n",
    "    "
   ]
  },
  {
   "cell_type": "code",
   "execution_count": 68,
   "metadata": {
    "collapsed": false
   },
   "outputs": [
    {
     "data": {
      "text/plain": [
       "['1', '2']"
      ]
     },
     "execution_count": 68,
     "metadata": {},
     "output_type": "execute_result"
    }
   ],
   "source": []
  },
  {
   "cell_type": "code",
   "execution_count": null,
   "metadata": {
    "collapsed": false
   },
   "outputs": [],
   "source": []
  },
  {
   "cell_type": "code",
   "execution_count": null,
   "metadata": {
    "collapsed": false
   },
   "outputs": [],
   "source": []
  },
  {
   "cell_type": "code",
   "execution_count": null,
   "metadata": {
    "collapsed": true
   },
   "outputs": [],
   "source": [
    "\n",
    "    "
   ]
  }
 ],
 "metadata": {
  "kernelspec": {
   "display_name": "Python 2",
   "language": "python",
   "name": "python2"
  },
  "language_info": {
   "codemirror_mode": {
    "name": "ipython",
    "version": 2
   },
   "file_extension": ".py",
   "mimetype": "text/x-python",
   "name": "python",
   "nbconvert_exporter": "python",
   "pygments_lexer": "ipython2",
   "version": "2.7.11"
  }
 },
 "nbformat": 4,
 "nbformat_minor": 0
}
