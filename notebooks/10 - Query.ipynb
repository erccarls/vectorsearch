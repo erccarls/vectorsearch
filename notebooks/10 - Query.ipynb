{
 "cells": [
  {
   "cell_type": "code",
   "execution_count": 1,
   "metadata": {
    "collapsed": true
   },
   "outputs": [],
   "source": [
    "  \n",
    "# Make sure that the query input is run through a stemmer and MWE so the vocab is matching.\n",
    "\n",
    "from nltk.tokenize import MWETokenizer\n",
    "from nltk.stem.lancaster import LancasterStemmer\n",
    "from nltk.corpus import stopwords\n",
    "from nltk.tokenize import WhitespaceTokenizer\n",
    "from unidecode import unidecode\n",
    "\n",
    "\n",
    "\n",
    "\n",
    "MWE = [] \n",
    "with open('../input/STREUSLE2.1-mwes.tsv') as f:\n",
    "    for line in f.readlines():\n",
    "        multiword_expression = line.split('\\t')[0].split()[1:]\n",
    "        MWE.append(multiword_expression)\n",
    "MWE_tokenizer = MWETokenizer(MWE, separator='-')\n",
    "# Add whatever additional custom multi-word-expressions.\n",
    "MWE_tokenizer.add_mwe((  'dive', 'bar'))\n",
    "# Stemmer\n",
    "stemmer = LancasterStemmer()\n",
    "whitespace_tokenizer = WhitespaceTokenizer()\n",
    "\n",
    "stops = set(stopwords.words(\"english\") + stopwords.words(\"spanish\"))\n",
    "keep_list = ['after', 'during', 'not', 'between', 'other', 'over', 'under', \n",
    "             'most', ' without', 'nor', 'no', 'very', 'against','don','aren']\n",
    "stops = set([word for word in stops if word not in keep_list])\n",
    "\n",
    "\n",
    "def clean_query_nltk(phrase):\n",
    "    '''\n",
    "    Handles the NLP cleaning, stemming, and multiword expression work for a given search phrase.\n",
    "    \n",
    "    phrase : list containing the words of an expression.  Usually just one word, \n",
    "             but can be phrases surrounded by quotes. \n",
    "    returns\n",
    "    '''\n",
    "    \n",
    "    # Multiword expression tokenizer\n",
    "    text_tokenize = whitespace_tokenizer.tokenize(phrase)\n",
    "    text_tokenize = map(lambda x: MWE_tokenizer.tokenize(x), text_tokenize)\n",
    "\n",
    "    # remove stop words\n",
    "    text_filtered = map(lambda x: [word for word in x if word not in stops], text_tokenize)\n",
    "    # Stem words\n",
    "    text_stemmed = map(lambda x: [stemmer.stem(word) for word in x], text_filtered)\n",
    "    return text_stemmed\n",
    "\n",
    "\n",
    "\n",
    "    \n",
    "    "
   ]
  },
  {
   "cell_type": "markdown",
   "metadata": {},
   "source": [
    "## Also can use this for unstemming..."
   ]
  },
  {
   "cell_type": "code",
   "execution_count": 3,
   "metadata": {
    "collapsed": false
   },
   "outputs": [],
   "source": [
    "import nltk\n",
    "class SnowCastleStemmer(nltk.stem.SnowballStemmer):\n",
    "    \"\"\" A wrapper around snowball stemmer with a reverse lookip table \"\"\"\n",
    "    \n",
    "    def __init__(self, *args, **kwargs):\n",
    "        super(self.__class__, self).__init__(*args, **kwargs)\n",
    "        self._stem_memory = defaultdict(set)\n",
    "        # switch stem and memstem\n",
    "        self._stem=self.stem\n",
    "        self.stem=self.memstem\n",
    "        \n",
    "    def memstem(self, word):\n",
    "        \"\"\" Wrapper around stem that remembers \"\"\"\n",
    "        stemmed_word = self._stem(word)\n",
    "        self._stem_memory[stemmed_word].add(word)\n",
    "        return stemmed_word\n",
    "        \n",
    "    def unstem(self, stemmed_word):\n",
    "        \"\"\" Reverse lookup \"\"\"\n",
    "        return sorted(self._stem_memory[stemmed_word], key=len)"
   ]
  },
  {
   "cell_type": "code",
   "execution_count": null,
   "metadata": {
    "collapsed": true
   },
   "outputs": [],
   "source": []
  }
 ],
 "metadata": {
  "kernelspec": {
   "display_name": "Python 2",
   "language": "python",
   "name": "python2"
  },
  "language_info": {
   "codemirror_mode": {
    "name": "ipython",
    "version": 2
   },
   "file_extension": ".py",
   "mimetype": "text/x-python",
   "name": "python",
   "nbconvert_exporter": "python",
   "pygments_lexer": "ipython2",
   "version": "2.7.11"
  }
 },
 "nbformat": 4,
 "nbformat_minor": 0
}
