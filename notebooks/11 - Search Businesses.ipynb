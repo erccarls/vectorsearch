{
 "cells": [
  {
   "cell_type": "code",
   "execution_count": 16,
   "metadata": {
    "collapsed": false
   },
   "outputs": [
    {
     "name": "stdout",
     "output_type": "stream",
     "text": [
      "0.929255473522 [u'show', u'see', u'stage', u'venue', u'seat', u'ticket', u'band', u'concert', u'music', u'act']\n",
      "0.363334010639 [u'beer', u'food', u'selection', u'tap', u'brew', u'brewery', u'try', u'ale', u'love', u'craft']\n",
      "0.0157632869974 [u'music', u'bartender', u'fun', u'always', u'friend', u'beer', u'love', u'old', u'pretty', u'game']\n",
      "0.0157632866943 [u'club', u'dance', u'music', u'girl', u'floor', u'line', u'got', u'table', u'guy', u'vega']\n",
      "0.0157632866439 [u'pub', u'food', u'irish', u'chip', u'fish', u'beer', u'pasty', u'bit', u'pie', u'staff']\n"
     ]
    }
   ],
   "source": [
    "import sys\n",
    "sys.path.append('../vectorsearch')\n",
    "import vectorsearch\n",
    "\n",
    "# SearchBusinesses(review)\n",
    "top_n = 5 # Number of topics to choose for top of list. \n",
    "rev_topic = np.array(vectorsearch.GetDocTopic('beer, live music, show'))\n",
    "# Get the top few topics for this review. \n",
    "top_n_topics = rev_topic.argsort()[-top_n:][::-1]\n",
    "# print rev_topic # Print the topic vector. \n",
    "\n",
    "\n",
    "for topic in top_n_topics:\n",
    "    print rev_topic[topic], vectorsearch.GetTopicWords(topic, )\n",
    "      \n",
    "top_bus_id, top_bus_sim = vectorsearch.FindBusinessSimilarityLDA(rev_topic, business_ids=None)"
   ]
  },
  {
   "cell_type": "code",
   "execution_count": null,
   "metadata": {
    "collapsed": true
   },
   "outputs": [],
   "source": []
  }
 ],
 "metadata": {
  "kernelspec": {
   "display_name": "Python 2",
   "language": "python",
   "name": "python2"
  }
 },
 "nbformat": 4,
 "nbformat_minor": 0
}
