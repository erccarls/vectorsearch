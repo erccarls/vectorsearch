{
 "cells": [
  {
   "cell_type": "markdown",
   "metadata": {},
   "source": [
    "\n",
    "# Possible interface features: \n",
    "\n",
    "- most similar bars within city\n",
    "- translate your city..  # find bars similar to the ones from your home\n",
    "- Show bar fingerprint\n",
    "- Show hourly heatmaps of city's bars\n",
    "\n",
    "\n",
    "\n",
    "# Probably retrain word2vec on restaurents as well.."
   ]
  },
  {
   "cell_type": "code",
   "execution_count": null,
   "metadata": {
    "collapsed": true
   },
   "outputs": [],
   "source": []
  }
 ],
 "metadata": {
  "kernelspec": {
   "display_name": "Python 2",
   "language": "python",
   "name": "python2"
  },
  "language_info": {
   "codemirror_mode": {
    "name": "ipython",
    "version": 2
   },
   "file_extension": ".py",
   "mimetype": "text/x-python",
   "name": "python",
   "nbconvert_exporter": "python",
   "pygments_lexer": "ipython2",
   "version": "2.7.11"
  }
 },
 "nbformat": 4,
 "nbformat_minor": 0
}
