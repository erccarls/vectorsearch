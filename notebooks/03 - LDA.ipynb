{
 "cells": [
  {
   "cell_type": "code",
   "execution_count": 4,
   "metadata": {
    "collapsed": true
   },
   "outputs": [],
   "source": [
    "import pandas as pd \n",
    "from gensim import corpora, models, similarities"
   ]
  },
  {
   "cell_type": "code",
   "execution_count": 5,
   "metadata": {
    "collapsed": true
   },
   "outputs": [],
   "source": [
    "review = pd.read_pickle('../output/bar_reviews_cleaned_and_tokenized.pickle')"
   ]
  },
  {
   "cell_type": "markdown",
   "metadata": {},
   "source": [
    "## Now we must generate a dictionary which maps vocabulary into a number"
   ]
  },
  {
   "cell_type": "code",
   "execution_count": null,
   "metadata": {
    "collapsed": false
   },
   "outputs": [
    {
     "name": "stdout",
     "output_type": "stream",
     "text": [
      "Generating vector dictionary....\n",
      "Dictonary generated in 45.46 seconds\n"
     ]
    }
   ],
   "source": [
    "import time \n",
    "from itertools import chain\n",
    "\n",
    "\n",
    "\n",
    "print 'Generating vector dictionary....'\n",
    "review_flatten = list(chain.from_iterable(review.cleaned_tokenized.iloc[:]))\n",
    "start = time.time()\n",
    "id2word_wiki = corpora.Dictionary(review_flatten)\n",
    "print 'Dictonary generated in %1.2f seconds'%(time.time()-start)\n"
   ]
  },
  {
   "cell_type": "code",
   "execution_count": null,
   "metadata": {
    "collapsed": false
   },
   "outputs": [],
   "source": [
    "\n",
    "# Convert corpus to bag of words for use with gensim...\n",
    "# See https://radimrehurek.com/gensim/tut1.html#from-strings-to-vectors\n",
    "corpus = map(lambda doc: id2word_wiki.doc2bow(doc), review_flatten)\n",
    "corpora.MmCorpus.serialize('../output/bar_corpus.mm', corpus)\n",
    "\n",
    "\n",
    "# Can laod the corpus with \n",
    "# from gensim import corpora\n",
    "# corpus = corpora.MmCorpus('../output/bar_corpus.mm')\n",
    "\n"
   ]
  },
  {
   "cell_type": "code",
   "execution_count": null,
   "metadata": {
    "collapsed": true
   },
   "outputs": [],
   "source": []
  }
 ],
 "metadata": {
  "kernelspec": {
   "display_name": "Python 2",
   "language": "python",
   "name": "python2"
  },
  "language_info": {
   "codemirror_mode": {
    "name": "ipython",
    "version": 2
   },
   "file_extension": ".py",
   "mimetype": "text/x-python",
   "name": "python",
   "nbconvert_exporter": "python",
   "pygments_lexer": "ipython2",
   "version": "2.7.11"
  }
 },
 "nbformat": 4,
 "nbformat_minor": 0
}
