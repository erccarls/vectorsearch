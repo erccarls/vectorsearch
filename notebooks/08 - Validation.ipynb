{
 "cells": [
  {
   "cell_type": "code",
   "execution_count": 1,
   "metadata": {
    "collapsed": false
   },
   "outputs": [
    {
     "name": "stderr",
     "output_type": "stream",
     "text": [
      "/home/carlson/anaconda/lib/python2.7/site-packages/matplotlib/__init__.py:1350: UserWarning:  This call to matplotlib.use() has no effect\n",
      "because the backend has already been chosen;\n",
      "matplotlib.use() must be called *before* pylab, matplotlib.pyplot,\n",
      "or matplotlib.backends is imported for the first time.\n",
      "\n",
      "  warnings.warn(_use_error_msg)\n"
     ]
    },
    {
     "name": "stdout",
     "output_type": "stream",
     "text": [
      "path /data/insight_yelp/input/\n"
     ]
    }
   ],
   "source": [
    "import sys\n",
    "sys.path.append('../vectorsearch/')\n",
    "import vectorsearch\n",
    "import pandas as pd\n",
    "import pickle"
   ]
  },
  {
   "cell_type": "code",
   "execution_count": 2,
   "metadata": {
    "collapsed": false
   },
   "outputs": [],
   "source": [
    "df_businesses = pd.read_pickle('../input/yelp_academic_dataset_business_SF.pickle')\n",
    "reviews = pd.read_pickle('../output/bar_reviews_cleaned_and_tokenized_SF.pickle')\n",
    "\n",
    "def get_bus_ids_city_state(city, state):\n",
    "    return set(list(df_businesses.business_id[(df_businesses.city.str.lower()==city.lower()) \n",
    "                                     & (df_businesses.state.str.lower()==state.lower())].values))\n",
    "\n",
    "\n",
    "training_users = pickle.load(open('../output/training_users.pickle', 'rb'))\n",
    "test_users     = pickle.load(open('../output/test_users.pickle', 'rb'))\n",
    "\n",
    "# Make the active review set training only \n",
    "review_train = reviews[reviews.user_id.isin(training_users)]\n",
    "review_test = reviews[reviews.user_id.isin(test_users)]\n",
    "\n",
    "\n",
    "\n",
    "\n"
   ]
  },
  {
   "cell_type": "code",
   "execution_count": 6,
   "metadata": {
    "collapsed": false
   },
   "outputs": [],
   "source": [
    "import line_profiler\n",
    "import IPython\n",
    "ip = IPython.get_ipython()\n",
    "ip.define_magic('lprun', line_profiler.magic_lprun)"
   ]
  },
  {
   "cell_type": "code",
   "execution_count": 64,
   "metadata": {
    "collapsed": false
   },
   "outputs": [
    {
     "name": "stdout",
     "output_type": "stream",
     "text": [
      " progress 16500 of 16544 TEST SET DONE\n",
      " progress 66550 of 66562 TRAIN SET DONE\n"
     ]
    }
   ],
   "source": [
    "\n",
    "\n",
    "def GetDocumentRank(review_text, real_bus_id, bus_ids_in_city_state):\n",
    "    '''\n",
    "    Given a document review, search businesses in that city, state and return the rank from the top of the list. \n",
    "    \n",
    "    \n",
    "    '''\n",
    "    top_n = 1000 # Number of topics to choose for top of list. \n",
    "    rev_topic = np.array(vectorsearch.GetDocTopic(review_text, n_jobs=1),)\n",
    "    \n",
    "    \n",
    "    #real_business = df_businesses[df_businesses.business_id==real_bus_id]\n",
    "    #city, state = real_business.city.values[0], real_business.state.values[0]\n",
    "    \n",
    "    # Lookup only businesses in the city/state\n",
    "    #bus_ids_in_city_state = get_bus_ids_city_state(city.strip().lower(), state.strip().lower())\n",
    "    # Get the topic vector for the review \n",
    "    # topic_listings = [\" \".join(vectorsearch.GetTopicWords(topic, ))  for topic in top_n_topics]\n",
    "    # Find similarity with the businesses of interst (in the city state)\n",
    "    top_bus_id, top_bus_sim = vectorsearch.FindBusinessSimilarityLDA(rev_topic, \n",
    "                                                                     business_ids=bus_ids_in_city_state,\n",
    "                                                                     top_n=top_n)\n",
    "    \n",
    "    # Length of cleaned and tokenized document for segmentation.\n",
    "    doc_length = vectorsearch.GetDocLength(review_text)\n",
    "    # where in the results was the true business?\n",
    "    try:\n",
    "        rank = np.argwhere(top_bus_id==real_bus_id)[0][0]+1\n",
    "    except:\n",
    "        rank = float('NaN')\n",
    "    return rank, doc_length\n",
    "\n",
    "\n",
    "\n",
    "def get_bus_ids_city_state(city, state):\n",
    "    bids =  set(list(df_businesses.business_id[(df_businesses.city==city) \n",
    "                                     & (df_businesses.state==state)].values))\n",
    "    return bids\n",
    "\n",
    "\n",
    "from multiprocessing import pool \n",
    "\n",
    "def RunValidation(review_set, city, state):\n",
    "    ranks, doc_lengths = [], [] \n",
    "    bids = get_bus_ids_city_state(city, state)\n",
    "    validation_set = review_set[review_set.business_id.isin(bids)]\n",
    "    \n",
    "#     f = lambda x: GetDocumentRank(x[0],x[1])\n",
    "#     p = pool.Pool(6)\n",
    "    \n",
    "    for i_rev in range(len(validation_set)):\n",
    "        row = validation_set.iloc[i_rev]\n",
    "        try:\n",
    "            if (i_rev%50==0): \n",
    "                print '\\r progress %i of'%i_rev, len(validation_set), \n",
    "            rank, doc_length = GetDocumentRank(row.text, row.business_id, bids)\n",
    "            ranks.append(rank)\n",
    "            doc_lengths.append(doc_length)\n",
    "        except:\n",
    "            pass\n",
    "        \n",
    "#     p.close()\n",
    "#     p.join()\n",
    "    return bids, ranks, doc_lengths\n",
    "#         except:\n",
    "#             print \"Not in top_n\"\n",
    "\n",
    "#%load_ext line_profiler\n",
    "#%prun RunValidation(review_test, \"San Francisco\", \"CA\")\n",
    "test_results = RunValidation(review_test, \"San Francisco\", \"CA\")\n",
    "print \"TEST SET DONE\"\n",
    "train_results = RunValidation(review_train[:], \"San Francisco\", \"CA\")\n",
    "print \"TRAIN SET DONE\"\n"
   ]
  },
  {
   "cell_type": "code",
   "execution_count": 66,
   "metadata": {
    "collapsed": false
   },
   "outputs": [
    {
     "name": "stdout",
     "output_type": "stream",
     "text": [
      "Num NaN's 6\n",
      "[ 25  52  46 ..., 157  40 132]\n"
     ]
    },
    {
     "data": {
      "text/plain": [
       "<matplotlib.text.Text at 0x7f79b4575290>"
      ]
     },
     "execution_count": 66,
     "metadata": {},
     "output_type": "execute_result"
    },
    {
     "data": {
      "image/png": "[encoded data removed]",
      "text/plain": [
       "<matplotlib.figure.Figure at 0x7f79b4f59a50>"
      ]
     },
     "metadata": {},
     "output_type": "display_data"
    }
   ],
   "source": [
    "ranks = np.array(test_results[1])\n",
    "n_businesses = len(test_results[0])\n",
    "doc_lengths = np.array(test_results[2])\n",
    "\n",
    "ranks_train = np.array(train_results[1])\n",
    "n_businesses = len(train_results[0])\n",
    "doc_lengths_train = np.array(train_results[2])\n",
    "\n",
    "\n",
    "# Random Choices....\n",
    "random_choices = np.random.randint(1, n_businesses, len(ranks))\n",
    "CDF = np.array([np.sum(random_choices<i) for i in range(n_businesses)])/float(len(random_choices))\n",
    "plt.plot(range(n_businesses), CDF, label='Random Choices', linestyle='--')\n",
    "\n",
    "\n",
    "def GetCDFDocLength(min_length):\n",
    "    ranks_tmp = ranks[doc_lengths>min_length]\n",
    "    CDF = np.array([np.sum(ranks_tmp<i) for i in range(n_businesses)])/float(len(ranks_tmp))\n",
    "    return CDF\n",
    "\n",
    "print \"Num NaN's\", np.sum(np.isnan(ranks))\n",
    "doc_lengths = doc_lengths[~np.isnan(ranks)]\n",
    "ranks = ranks[~np.isnan(ranks)]\n",
    "print doc_lengths\n",
    "\n",
    "for min_length in [0,20,100,300]:\n",
    "    CDF = GetCDFDocLength(min_length)\n",
    "    plt.plot(range(n_businesses),CDF, label=r'LDA $n_{\\rm words}>%i$'%min_length)\n",
    "\n",
    "\n",
    "CDF = np.array([np.sum(ranks_train<i) for i in range(n_businesses)])/float(len(ranks_train))\n",
    "plt.plot(range(n_businesses), CDF, label=r'LDA Training Set', linestyle=':')\n",
    "\n",
    "plt.legend(loc=2, frameon=False, handlelength=3)\n",
    "plt.xscale('log')\n",
    "plt.xlim(1,1e3)\n",
    "plt.xlabel(r'Rank Cutoff $r_{\\rm max}$')\n",
    "plt.ylabel(r'CDF(r$<r_{\\rm max}$)')\n",
    "plt.title('Review Match Accuracy: San Francisco')"
   ]
  },
  {
   "cell_type": "code",
   "execution_count": 26,
   "metadata": {
    "collapsed": false
   },
   "outputs": [
    {
     "ename": "NameError",
     "evalue": "name 'name' is not defined",
     "output_type": "error",
     "traceback": [
      "\u001b[1;31m\u001b[0m",
      "\u001b[1;31mNameError\u001b[0mTraceback (most recent call last)",
      "\u001b[1;32m<ipython-input-26-3a17d052bf13>\u001b[0m in \u001b[0;36m<module>\u001b[1;34m()\u001b[0m\n\u001b[0;32m      7\u001b[0m \u001b[1;33m\u001b[0m\u001b[0m\n\u001b[0;32m      8\u001b[0m \u001b[1;33m\u001b[0m\u001b[0m\n\u001b[1;32m----> 9\u001b[1;33m search_results = yelp_api.Search(term=name, location=location, \n\u001b[0m\u001b[0;32m     10\u001b[0m                                  \u001b[0mcll\u001b[0m\u001b[1;33m=\u001b[0m\u001b[0mstr\u001b[0m\u001b[1;33m(\u001b[0m\u001b[0mlat\u001b[0m\u001b[1;33m)\u001b[0m\u001b[1;33m+\u001b[0m\u001b[1;34m','\u001b[0m\u001b[1;33m+\u001b[0m\u001b[0mstr\u001b[0m\u001b[1;33m(\u001b[0m\u001b[0mlon\u001b[0m\u001b[1;33m)\u001b[0m\u001b[1;33m,\u001b[0m \u001b[0mradius_filter\u001b[0m\u001b[1;33m=\u001b[0m\u001b[0mradius\u001b[0m\u001b[1;33m,\u001b[0m\u001b[1;33m\u001b[0m\u001b[0m\n\u001b[0;32m     11\u001b[0m                                  limit=1, category_filter='Bar') # location and search term are required\n",
      "\u001b[1;31mNameError\u001b[0m: name 'name' is not defined"
     ]
    }
   ],
   "source": [
    "import yelp\n",
    "\n",
    "yelp_api = yelp.Api(consumer_key='SddBgAA4qAbxz-UhAS0D7A',\n",
    "                    consumer_secret='z-d2Q7yB963kMcusvLVm9I2Jylg',\n",
    "                    access_token_key='KL574SXMJijEoO1_poHKhm6gHnSbwNlS',\n",
    "                    access_token_secret='bn7i1wGZ8hNK5MLuykvMwfpEB4g')\n",
    "\n",
    "\n",
    "def SearchYelpReviews(review, location, real_bus_URL):\n",
    "    search_results = yelp_api.Search(term=review, location=location, \n",
    "#                                  cll=str(lat)+','+str(lon), radius_filter=radius, \n",
    "                                 limit=100, category_filter='bars') # location and search term are required\n",
    "    \n",
    "    for i, bus in enumerate(search_results.businesses):\n",
    "        if bus.url == real_bus_URL:\n",
    "            return i+1\n",
    "        else:\n",
    "            return 999\n",
    "    \n",
    "    return rank\n",
    "\n",
    "\n",
    "\n",
    "\n",
    "\n",
    "\n",
    "\n",
    "search_results.businesses[0].url = search_results.businesses[0].url.split('?')[0]"
   ]
  },
  {
   "cell_type": "code",
   "execution_count": 28,
   "metadata": {
    "collapsed": false
   },
   "outputs": [
    {
     "data": {
      "text/plain": [
       "(0       33.499313\n",
       " 1       40.350519\n",
       " 2       40.356896\n",
       " 3       40.357620\n",
       " 4       40.408735\n",
       " 5       40.415517\n",
       " 6       40.394588\n",
       " 7       40.405404\n",
       " 8       40.406324\n",
       " 9       40.387732\n",
       " 10      40.387732\n",
       " 11      40.396469\n",
       " 12      40.396744\n",
       " 13      40.404638\n",
       " 14      40.417419\n",
       " 15      40.408670\n",
       " 16      40.408568\n",
       " 17      40.407889\n",
       " 18      40.386891\n",
       " 19      40.390760\n",
       " 20      40.408343\n",
       " 21      40.391255\n",
       " 22      40.394305\n",
       " 23      40.408257\n",
       " 24      40.470457\n",
       " 25      40.412086\n",
       " 26      40.411692\n",
       " 27      40.407091\n",
       " 28      40.414064\n",
       " 29      40.413496\n",
       "           ...    \n",
       " 1065          NaN\n",
       " 1066          NaN\n",
       " 1067          NaN\n",
       " 1068          NaN\n",
       " 1069          NaN\n",
       " 1070          NaN\n",
       " 1071          NaN\n",
       " 1072          NaN\n",
       " 1073          NaN\n",
       " 1074          NaN\n",
       " 1075          NaN\n",
       " 1076          NaN\n",
       " 1077          NaN\n",
       " 1078          NaN\n",
       " 1079          NaN\n",
       " 1080          NaN\n",
       " 1081          NaN\n",
       " 1082          NaN\n",
       " 1083          NaN\n",
       " 1084          NaN\n",
       " 1085          NaN\n",
       " 1086          NaN\n",
       " 1087          NaN\n",
       " 1088          NaN\n",
       " 1089          NaN\n",
       " 1090          NaN\n",
       " 1091          NaN\n",
       " 1092          NaN\n",
       " 1093          NaN\n",
       " 1094          NaN\n",
       " Name: latitude, dtype: float64, 0      -111.983758\n",
       " 1       -79.886930\n",
       " 2       -80.015910\n",
       " 3       -80.059980\n",
       " 4       -79.866351\n",
       " 5       -80.067534\n",
       " 6       -80.084454\n",
       " 7       -80.076267\n",
       " 8       -80.090357\n",
       " 9       -80.092874\n",
       " 10      -80.092874\n",
       " 11      -80.084942\n",
       " 12      -80.084800\n",
       " 13      -80.089985\n",
       " 14      -80.088557\n",
       " 15      -80.085279\n",
       " 16      -80.084992\n",
       " 17      -80.086060\n",
       " 18      -80.093704\n",
       " 19      -80.078657\n",
       " 20      -80.084861\n",
       " 21      -80.073426\n",
       " 22      -80.060154\n",
       " 23      -80.085458\n",
       " 24      -80.088959\n",
       " 25      -79.910032\n",
       " 26      -79.912343\n",
       " 27      -79.916958\n",
       " 28      -79.903778\n",
       " 29      -79.904456\n",
       "            ...    \n",
       " 1065           NaN\n",
       " 1066           NaN\n",
       " 1067           NaN\n",
       " 1068           NaN\n",
       " 1069           NaN\n",
       " 1070           NaN\n",
       " 1071           NaN\n",
       " 1072           NaN\n",
       " 1073           NaN\n",
       " 1074           NaN\n",
       " 1075           NaN\n",
       " 1076           NaN\n",
       " 1077           NaN\n",
       " 1078           NaN\n",
       " 1079           NaN\n",
       " 1080           NaN\n",
       " 1081           NaN\n",
       " 1082           NaN\n",
       " 1083           NaN\n",
       " 1084           NaN\n",
       " 1085           NaN\n",
       " 1086           NaN\n",
       " 1087           NaN\n",
       " 1088           NaN\n",
       " 1089           NaN\n",
       " 1090           NaN\n",
       " 1091           NaN\n",
       " 1092           NaN\n",
       " 1093           NaN\n",
       " 1094           NaN\n",
       " Name: longitude, dtype: float64)"
      ]
     },
     "execution_count": 28,
     "metadata": {},
     "output_type": "execute_result"
    }
   ],
   "source": [
    "df_businesses.latitude, df_businesses.longitude"
   ]
  },
  {
   "cell_type": "code",
   "execution_count": 33,
   "metadata": {
    "collapsed": false
   },
   "outputs": [
    {
     "data": {
      "text/plain": [
       "{u'Ahwatukee',\n",
       " u'Anthem',\n",
       " u'Apache Junction',\n",
       " u'Avondale',\n",
       " u'Beaconsfield',\n",
       " u'Belmont',\n",
       " u'Bloomfield',\n",
       " u'Boisbriand',\n",
       " u'Boulder City',\n",
       " u'Braddock',\n",
       " u'Bridgeville',\n",
       " u'Brossard',\n",
       " u'Buckeye',\n",
       " u'Cambridge',\n",
       " u'Carefree',\n",
       " u'Carnegie',\n",
       " u'Casa Grande',\n",
       " u'Cave Creek',\n",
       " u'Champaign',\n",
       " u'Chandler',\n",
       " u'Charlotte',\n",
       " u'Chateau',\n",
       " u'Concord',\n",
       " u'Concord Mills',\n",
       " u'Coolidge',\n",
       " u'DeForest',\n",
       " u'Dollard-Des-Ormeaux',\n",
       " u'Dormont',\n",
       " u'Dorval',\n",
       " u'Edinburgh',\n",
       " u'Eggenstein-Leopoldshafen',\n",
       " u'Ettlingen',\n",
       " u'Fitchburg',\n",
       " u'Florence',\n",
       " u'Fort McDowell',\n",
       " u'Fort Mill',\n",
       " u'Fort mill',\n",
       " u'Fountain Hills',\n",
       " u'Gilbert',\n",
       " u'Glendale',\n",
       " u'Goodyear',\n",
       " u'Greenfield Park',\n",
       " u'Henderson',\n",
       " u'Higley',\n",
       " u'Homestead',\n",
       " u'Karlsruhe',\n",
       " u'Kitchener',\n",
       " u\"L'\\xcele-des-Soeurs\",\n",
       " u'Lake Wylie',\n",
       " u'Las Vegas',\n",
       " u'Las Vegas ',\n",
       " u'Lasswade',\n",
       " u'Laval',\n",
       " u'Laveen',\n",
       " u'Lawrenceville',\n",
       " u'Litchfield Park',\n",
       " u'Madison',\n",
       " u'Maricopa',\n",
       " u'Matthews',\n",
       " u'Mc Farland',\n",
       " u'McKees Rocks',\n",
       " u'Mcfarland',\n",
       " u'Mesa',\n",
       " u'Middleton',\n",
       " u'Millvale',\n",
       " u'Monona',\n",
       " u'Monroe',\n",
       " u'Montreal',\n",
       " u'Montr\\xe9al',\n",
       " u'Mont\\xe9al',\n",
       " u'Morristown',\n",
       " u'Munhall',\n",
       " u'Musselburgh',\n",
       " u'N. Las Vegas',\n",
       " u'New Town',\n",
       " u'Newington',\n",
       " u'North Las Vegas',\n",
       " u'North Scottsdale',\n",
       " u'Paradise',\n",
       " u'Paradise Valley',\n",
       " u'Peoria',\n",
       " u'Phoenix',\n",
       " u'Pineville',\n",
       " u'Pittsburgh',\n",
       " u'Pointe-Claire',\n",
       " u'Quebec',\n",
       " u'Queen Creek',\n",
       " u'Ratho',\n",
       " u'Saint-Leonard',\n",
       " u'San Tan Valley',\n",
       " u'Savoy',\n",
       " u'Scottsdale',\n",
       " u'Spring Valley',\n",
       " u'St. Jacobs',\n",
       " u'Stockbridge',\n",
       " u'Summerlin',\n",
       " u'Sun Prairie',\n",
       " u'Surprise',\n",
       " u'Swissvale',\n",
       " u'Tempe',\n",
       " u'Tolleson',\n",
       " u'Urbana',\n",
       " u'Verdun',\n",
       " u'Verona',\n",
       " u'Waterloo',\n",
       " u'Waunakee',\n",
       " u'Weingarten',\n",
       " u'West Homestead',\n",
       " u'West Mifflin',\n",
       " u'Westmount',\n",
       " u'Wickenburg'}"
      ]
     },
     "execution_count": 33,
     "metadata": {},
     "output_type": "execute_result"
    }
   ],
   "source": [
    "set(df_businesses[df_businesses.business_id.isin(set(review_test.business_id.values))].city)"
   ]
  },
  {
   "cell_type": "code",
   "execution_count": 15,
   "metadata": {
    "collapsed": false
   },
   "outputs": [
    {
     "name": "stdout",
     "output_type": "stream",
     "text": [
      "1035\n"
     ]
    }
   ],
   "source": [
    "print len(set(list(df_businesses.business_id[(df_businesses.city.str.lower()=='San Francisco'.lower()) \n",
    "                                     & (df_businesses.state.str.lower()=='ca')].values)))"
   ]
  },
  {
   "cell_type": "code",
   "execution_count": 23,
   "metadata": {
    "collapsed": false
   },
   "outputs": [
    {
     "data": {
      "text/plain": [
       "1035"
      ]
     },
     "execution_count": 23,
     "metadata": {},
     "output_type": "execute_result"
    }
   ],
   "source": [
    "def get_bus_ids_city_state(city, state):\n",
    "    return set(list(df_businesses.business_id[(df_businesses.city.str.lower()==city.lower()) \n",
    "                                     & (df_businesses.state.str.lower()==state.lower())].values))\n",
    "\n",
    "len(get_bus_ids_city_state('San Francisco', 'CA'))"
   ]
  },
  {
   "cell_type": "code",
   "execution_count": null,
   "metadata": {
    "collapsed": true
   },
   "outputs": [],
   "source": []
  }
 ],
 "metadata": {
  "kernelspec": {
   "display_name": "Python 2",
   "language": "python",
   "name": "python2"
  },
  "language_info": {
   "codemirror_mode": {
    "name": "ipython",
    "version": 2
   },
   "file_extension": ".py",
   "mimetype": "text/x-python",
   "name": "python",
   "nbconvert_exporter": "python",
   "pygments_lexer": "ipython2",
   "version": "2.7.11"
  }
 },
 "nbformat": 4,
 "nbformat_minor": 0
}
