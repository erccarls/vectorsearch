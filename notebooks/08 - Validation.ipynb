{
 "cells": [
  {
   "cell_type": "code",
   "execution_count": 1,
   "metadata": {
    "collapsed": false
   },
   "outputs": [
    {
     "name": "stderr",
     "output_type": "stream",
     "text": [
      "/home/carlson/anaconda/lib/python2.7/site-packages/matplotlib/__init__.py:1350: UserWarning:  This call to matplotlib.use() has no effect\n",
      "because the backend has already been chosen;\n",
      "matplotlib.use() must be called *before* pylab, matplotlib.pyplot,\n",
      "or matplotlib.backends is imported for the first time.\n",
      "\n",
      "  warnings.warn(_use_error_msg)\n"
     ]
    },
    {
     "ename": "RuntimeError",
     "evalue": "Model 'en>=1.1.0,<1.2.0' not installed. Please run 'python -m spacy.en.download' to install latest compatible model.",
     "output_type": "error",
     "traceback": [
      "\u001b[1;31m\u001b[0m",
      "\u001b[1;31mRuntimeError\u001b[0mTraceback (most recent call last)",
      "\u001b[1;32m<ipython-input-1-d5585a741410>\u001b[0m in \u001b[0;36m<module>\u001b[1;34m()\u001b[0m\n\u001b[0;32m      1\u001b[0m \u001b[1;32mimport\u001b[0m \u001b[0msys\u001b[0m\u001b[1;33m\u001b[0m\u001b[0m\n\u001b[0;32m      2\u001b[0m \u001b[0msys\u001b[0m\u001b[1;33m.\u001b[0m\u001b[0mpath\u001b[0m\u001b[1;33m.\u001b[0m\u001b[0mappend\u001b[0m\u001b[1;33m(\u001b[0m\u001b[1;34m'../vectorsearch/'\u001b[0m\u001b[1;33m)\u001b[0m\u001b[1;33m\u001b[0m\u001b[0m\n\u001b[1;32m----> 3\u001b[1;33m \u001b[1;32mimport\u001b[0m \u001b[0mvectorsearch\u001b[0m\u001b[1;33m\u001b[0m\u001b[0m\n\u001b[0m\u001b[0;32m      4\u001b[0m \u001b[1;32mimport\u001b[0m \u001b[0mpandas\u001b[0m \u001b[1;32mas\u001b[0m \u001b[0mpd\u001b[0m\u001b[1;33m\u001b[0m\u001b[0m\n\u001b[0;32m      5\u001b[0m \u001b[1;32mimport\u001b[0m \u001b[0mpickle\u001b[0m\u001b[1;33m\u001b[0m\u001b[0m\n",
      "\u001b[1;32m/data/insight_yelp/vectorsearch/vectorsearch.py\u001b[0m in \u001b[0;36m<module>\u001b[1;34m()\u001b[0m\n\u001b[0;32m      8\u001b[0m \u001b[1;32mimport\u001b[0m \u001b[0msys\u001b[0m\u001b[1;33m\u001b[0m\u001b[0m\n\u001b[0;32m      9\u001b[0m \u001b[0msys\u001b[0m\u001b[1;33m.\u001b[0m\u001b[0mpath\u001b[0m\u001b[1;33m.\u001b[0m\u001b[0mappend\u001b[0m\u001b[1;33m(\u001b[0m\u001b[1;34m'../vectorsearch'\u001b[0m\u001b[1;33m)\u001b[0m\u001b[1;33m\u001b[0m\u001b[0m\n\u001b[1;32m---> 10\u001b[1;33m \u001b[1;32mimport\u001b[0m \u001b[0mnltk_helper\u001b[0m\u001b[1;33m\u001b[0m\u001b[0m\n\u001b[0m\u001b[0;32m     11\u001b[0m \u001b[1;32mimport\u001b[0m \u001b[0mLDA\u001b[0m\u001b[1;33m\u001b[0m\u001b[0m\n\u001b[0;32m     12\u001b[0m \u001b[1;32mfrom\u001b[0m \u001b[0mitertools\u001b[0m \u001b[1;32mimport\u001b[0m \u001b[0mchain\u001b[0m\u001b[1;33m\u001b[0m\u001b[0m\n",
      "\u001b[1;32m/data/insight_yelp/vectorsearch/nltk_helper.py\u001b[0m in \u001b[0;36m<module>\u001b[1;34m()\u001b[0m\n\u001b[0;32m     12\u001b[0m \u001b[1;33m\u001b[0m\u001b[0m\n\u001b[0;32m     13\u001b[0m \u001b[1;32mfrom\u001b[0m \u001b[0mspacy\u001b[0m\u001b[1;33m.\u001b[0m\u001b[0men\u001b[0m \u001b[1;32mimport\u001b[0m \u001b[0mEnglish\u001b[0m\u001b[1;33m\u001b[0m\u001b[0m\n\u001b[1;32m---> 14\u001b[1;33m \u001b[0mnlp\u001b[0m \u001b[1;33m=\u001b[0m \u001b[0mEnglish\u001b[0m\u001b[1;33m(\u001b[0m\u001b[1;33m)\u001b[0m\u001b[1;33m\u001b[0m\u001b[0m\n\u001b[0m\u001b[0;32m     15\u001b[0m \u001b[1;33m\u001b[0m\u001b[0m\n\u001b[0;32m     16\u001b[0m \u001b[1;33m\u001b[0m\u001b[0m\n",
      "\u001b[1;32m/home/carlson/anaconda/lib/python2.7/site-packages/spacy/language.pyc\u001b[0m in \u001b[0;36m__init__\u001b[1;34m(self, data_dir, vocab, tokenizer, tagger, parser, entity, matcher, serializer, load_vectors, package, vectors_package)\u001b[0m\n\u001b[0;32m    168\u001b[0m         \u001b[1;32mif\u001b[0m \u001b[0mpackage\u001b[0m \u001b[1;32mis\u001b[0m \u001b[0mNone\u001b[0m\u001b[1;33m:\u001b[0m\u001b[1;33m\u001b[0m\u001b[0m\n\u001b[0;32m    169\u001b[0m             \u001b[1;32mif\u001b[0m \u001b[0mdata_dir\u001b[0m \u001b[1;32mis\u001b[0m \u001b[0mNone\u001b[0m\u001b[1;33m:\u001b[0m\u001b[1;33m\u001b[0m\u001b[0m\n\u001b[1;32m--> 170\u001b[1;33m                 \u001b[0mpackage\u001b[0m \u001b[1;33m=\u001b[0m \u001b[0mutil\u001b[0m\u001b[1;33m.\u001b[0m\u001b[0mget_package_by_name\u001b[0m\u001b[1;33m(\u001b[0m\u001b[0mabout\u001b[0m\u001b[1;33m.\u001b[0m\u001b[0m__models__\u001b[0m\u001b[1;33m[\u001b[0m\u001b[0mself\u001b[0m\u001b[1;33m.\u001b[0m\u001b[0mlang\u001b[0m\u001b[1;33m]\u001b[0m\u001b[1;33m)\u001b[0m\u001b[1;33m\u001b[0m\u001b[0m\n\u001b[0m\u001b[0;32m    171\u001b[0m             \u001b[1;32melse\u001b[0m\u001b[1;33m:\u001b[0m\u001b[1;33m\u001b[0m\u001b[0m\n\u001b[0;32m    172\u001b[0m                 \u001b[0mpackage\u001b[0m \u001b[1;33m=\u001b[0m \u001b[0mutil\u001b[0m\u001b[1;33m.\u001b[0m\u001b[0mget_package\u001b[0m\u001b[1;33m(\u001b[0m\u001b[0mdata_dir\u001b[0m\u001b[1;33m)\u001b[0m\u001b[1;33m\u001b[0m\u001b[0m\n",
      "\u001b[1;32m/home/carlson/anaconda/lib/python2.7/site-packages/spacy/util.pyc\u001b[0m in \u001b[0;36mget_package_by_name\u001b[1;34m(name, via)\u001b[0m\n\u001b[0;32m     46\u001b[0m         raise RuntimeError(\"Model '%s' not installed. Please run 'python -m \"\n\u001b[0;32m     47\u001b[0m                            \u001b[1;34m\"%s.download' to install latest compatible \"\u001b[0m\u001b[1;33m\u001b[0m\u001b[0m\n\u001b[1;32m---> 48\u001b[1;33m                            \"model.\" % (name, lang.__module__))\n\u001b[0m\u001b[0;32m     49\u001b[0m     \u001b[1;32mexcept\u001b[0m \u001b[0mCompatiblePackageNotFoundException\u001b[0m \u001b[1;32mas\u001b[0m \u001b[0me\u001b[0m\u001b[1;33m:\u001b[0m\u001b[1;33m\u001b[0m\u001b[0m\n\u001b[0;32m     50\u001b[0m         raise RuntimeError(\"Installed model is not compatible with spaCy \"\n",
      "\u001b[1;31mRuntimeError\u001b[0m: Model 'en>=1.1.0,<1.2.0' not installed. Please run 'python -m spacy.en.download' to install latest compatible model."
     ]
    }
   ],
   "source": [
    "import sys\n",
    "sys.path.append('../vectorsearch/')\n",
    "import vectorsearch\n",
    "import pandas as pd\n",
    "import pickle"
   ]
  },
  {
   "cell_type": "code",
   "execution_count": null,
   "metadata": {
    "collapsed": false
   },
   "outputs": [],
   "source": [
    "df_businesses = pd.read_pickle('../input/yelp_academic_dataset_business_SF.pickle')\n",
    "reviews = pd.read_pickle('../output/bar_reviews_cleaned_and_tokenized_SF.pickle')\n",
    "\n",
    "def get_bus_ids_city_state(city, state):\n",
    "    return set(list(df_businesses.business_id[(df_businesses.city.str.lower()==city.lower()) \n",
    "                                     & (df_businesses.state.str.lower()==state.lower())].values))\n",
    "\n",
    "\n",
    "training_users = pickle.load(open('../output/training_users.pickle', 'rb'))\n",
    "test_users     = pickle.load(open('../output/test_users.pickle', 'rb'))\n",
    "\n",
    "# Make the active review set training only \n",
    "review_train = reviews[reviews.user_id.isin(training_users)]\n",
    "review_test = reviews[reviews.user_id.isin(test_users)]\n",
    "\n",
    "\n",
    "\n",
    "\n"
   ]
  },
  {
   "cell_type": "code",
   "execution_count": 105,
   "metadata": {
    "collapsed": false
   },
   "outputs": [],
   "source": [
    "import line_profiler\n",
    "import IPython\n",
    "ip = IPython.get_ipython()\n",
    "ip.define_magic('lprun', line_profiler.magic_lprun)"
   ]
  },
  {
   "cell_type": "code",
   "execution_count": 108,
   "metadata": {
    "collapsed": false
   },
   "outputs": [
    {
     "name": "stdout",
     "output_type": "stream",
     "text": [
      " progress 16750 of 16752 TEST SET DONE\n",
      " progress 67450 of 67465 TRAIN SET DONE\n"
     ]
    }
   ],
   "source": [
    "\n",
    "\n",
    "def GetDocumentRank(review_text, real_bus_id, bus_ids_in_city_state):\n",
    "    '''\n",
    "    Given a document review, search businesses in that city, state and return the rank from the top of the list. \n",
    "    \n",
    "    \n",
    "    '''\n",
    "    top_n = 1000 # Number of topics to choose for top of list. \n",
    "    rev_topic = np.array(vectorsearch.GetDocTopic(review_text, n_jobs=1),)\n",
    "    \n",
    "    \n",
    "    #real_business = df_businesses[df_businesses.business_id==real_bus_id]\n",
    "    #city, state = real_business.city.values[0], real_business.state.values[0]\n",
    "    \n",
    "    # Lookup only businesses in the city/state\n",
    "    #bus_ids_in_city_state = get_bus_ids_city_state(city.strip().lower(), state.strip().lower())\n",
    "    # Get the topic vector for the review \n",
    "    # topic_listings = [\" \".join(vectorsearch.GetTopicWords(topic, ))  for topic in top_n_topics]\n",
    "    # Find similarity with the businesses of interst (in the city state)\n",
    "    top_bus_id, top_bus_sim = vectorsearch.FindBusinessSimilarityLDA(rev_topic, \n",
    "                                                                     business_ids=bus_ids_in_city_state,\n",
    "                                                                     top_n=top_n)\n",
    "    \n",
    "    # Length of cleaned and tokenized document for segmentation.\n",
    "    doc_length = vectorsearch.GetDocLength(review_text)\n",
    "    # where in the results was the true business?\n",
    "    try:\n",
    "        rank = np.argwhere(top_bus_id==real_bus_id)[0][0]+1\n",
    "    except:\n",
    "        rank = float('NaN')\n",
    "    return rank, doc_length\n",
    "\n",
    "\n",
    "\n",
    "def get_bus_ids_city_state(city, state):\n",
    "    bids =  set(list(df_businesses.business_id[(df_businesses.city==city) \n",
    "                                     & (df_businesses.state==state)].values))\n",
    "    return bids\n",
    "\n",
    "\n",
    "from multiprocessing import pool \n",
    "\n",
    "def RunValidation(review_set, city, state):\n",
    "    ranks, doc_lengths = [], [] \n",
    "    bids = get_bus_ids_city_state(city, state)\n",
    "    validation_set = review_set[review_set.business_id.isin(bids)]\n",
    "    \n",
    "#     f = lambda x: GetDocumentRank(x[0],x[1])\n",
    "#     p = pool.Pool(6)\n",
    "    \n",
    "    for i_rev in range(len(validation_set)):\n",
    "        row = validation_set.iloc[i_rev]\n",
    "        try:\n",
    "            if (i_rev%50==0): \n",
    "                print '\\r progress %i of'%i_rev, len(validation_set), \n",
    "            rank, doc_length = GetDocumentRank(row.text, row.business_id, bids)\n",
    "            ranks.append(rank)\n",
    "            doc_lengths.append(doc_length)\n",
    "        except:\n",
    "            pass\n",
    "        \n",
    "#     p.close()\n",
    "#     p.join()\n",
    "    return bids, ranks, doc_lengths\n",
    "#         except:\n",
    "#             print \"Not in top_n\"\n",
    "\n",
    "#%load_ext line_profiler\n",
    "#%prun RunValidation(review_test, \"San Francisco\", \"CA\")\n",
    "test_results = RunValidation(review_test, \"San Francisco\", \"CA\")\n",
    "print \"TEST SET DONE\"\n",
    "train_results = RunValidation(review_train[:], \"San Francisco\", \"CA\")\n",
    "print \"TRAIN SET DONE\"\n",
    "\n",
    "\n",
    "results = {'test_results':test_results, 'train_results':train_results}\n",
    "with open('../output/validation_results_LDA_SF_withChunk.pickle', 'wb') as f:\n",
    "    pickle.dump(results, f)\n"
   ]
  },
  {
   "cell_type": "code",
   "execution_count": 6,
   "metadata": {
    "collapsed": false
   },
   "outputs": [
    {
     "name": "stdout",
     "output_type": "stream",
     "text": [
      "Num NaN's 207\n",
      "[136 131 152 ...,  82  29 118]\n",
      "Num NaN's 6\n",
      "[ 25  52  46 ..., 157  40 132]\n"
     ]
    },
    {
     "data": {
      "text/plain": [
       "<matplotlib.text.Text at 0x7fbe144f0bd0>"
      ]
     },
     "execution_count": 6,
     "metadata": {},
     "output_type": "execute_result"
    },
    {
     "data": {
      "image/png": "[encoded data removed]",
      "text/plain": [
       "<matplotlib.figure.Figure at 0x7fbe1503e310>"
      ]
     },
     "metadata": {},
     "output_type": "display_data"
    }
   ],
   "source": [
    "import pickle\n",
    "\n",
    "result_sets = {'LDA':pickle.load(open('../output/validation_results_LDA_SF_noChunk.pickle', 'rb')),\n",
    "               'LDA+Noun Chunk':pickle.load(open('../output/validation_results_LDA_SF_withChunk.pickle', 'rb'))}\n",
    "           \n",
    "\n",
    "\n",
    "# ranks_train = np.array(train_results[1])\n",
    "# n_businesses = len(train_results[0])\n",
    "# doc_lengths_train = np.array(train_results[2])\n",
    "\n",
    "\n",
    "def GetCDFDocLength(min_length):\n",
    "    ranks_tmp = ranks[doc_lengths>min_length]\n",
    "    CDF = np.array([np.sum(ranks_tmp<i) for i in range(n_businesses)])/float(len(ranks_tmp))\n",
    "    return CDF\n",
    "\n",
    "\n",
    "for key, result_set in result_sets.items():  \n",
    "    ranks = np.array(result_set['test_results'][1])\n",
    "    n_businesses = len(result_set['test_results'][0])\n",
    "    doc_lengths = np.array(result_set['test_results'][2])\n",
    "    print \"Num NaN's\", np.sum(np.isnan(ranks))\n",
    "    doc_lengths = doc_lengths[~np.isnan(ranks)]\n",
    "    ranks = ranks[~np.isnan(ranks)]\n",
    "    print doc_lengths\n",
    "\n",
    "    for min_length in [0,100,]:\n",
    "        CDF = GetCDFDocLength(min_length)\n",
    "        plt.plot(range(n_businesses),CDF, label=key+r' $n_{\\rm words}>%i$'%min_length)\n",
    "\n",
    "\n",
    "#     CDF = np.array([np.sum(ranks_train<i) for i in range(n_businesses)])/float(len(ranks_train))\n",
    "#     plt.plot(range(n_businesses), CDF, label=r'LDA Training Set', linestyle=':')\n",
    "\n",
    "\n",
    "\n",
    "# Random Choices....\n",
    "random_choices = np.random.randint(1, n_businesses, len(ranks))\n",
    "CDF = np.array([np.sum(random_choices<i) for i in range(n_businesses)])/float(len(random_choices))\n",
    "plt.plot(range(n_businesses), CDF, label='Random Choices', linestyle='--')\n",
    "\n",
    "\n",
    "plt.legend(loc=2, frameon=False, handlelength=3)\n",
    "plt.xscale('log')\n",
    "plt.xlim(1,1e3)\n",
    "plt.xlabel(r'Rank Cutoff $r_{\\rm max}$')\n",
    "plt.ylabel(r'CDF(r$<r_{\\rm max}$)')\n",
    "plt.title('Review Match Accuracy: San Francisco')"
   ]
  },
  {
   "cell_type": "code",
   "execution_count": 98,
   "metadata": {
    "collapsed": false
   },
   "outputs": [
    {
     "name": "stdout",
     "output_type": "stream",
     "text": [
      " \r",
      " progress 0 of 16544"
     ]
    },
    {
     "ename": "Exception",
     "evalue": "{u'text': u'One or more parameters are invalid in request', u'id': u'INVALID_PARAMETER', u'field': u'term'}",
     "output_type": "error",
     "traceback": [
      "\u001b[1;31m\u001b[0m",
      "\u001b[1;31mException\u001b[0mTraceback (most recent call last)",
      "\u001b[1;32m<ipython-input-98-721af581341b>\u001b[0m in \u001b[0;36m<module>\u001b[1;34m()\u001b[0m\n\u001b[0;32m     44\u001b[0m \u001b[1;33m\u001b[0m\u001b[0m\n\u001b[0;32m     45\u001b[0m \u001b[1;33m\u001b[0m\u001b[0m\n\u001b[1;32m---> 46\u001b[1;33m \u001b[0mranks\u001b[0m \u001b[1;33m=\u001b[0m \u001b[0mRunValidationYelp\u001b[0m\u001b[1;33m(\u001b[0m\u001b[0mreview_test\u001b[0m\u001b[1;33m,\u001b[0m \u001b[1;34m'San Francisco'\u001b[0m\u001b[1;33m,\u001b[0m \u001b[1;34m'CA'\u001b[0m\u001b[1;33m)\u001b[0m\u001b[1;33m\u001b[0m\u001b[0m\n\u001b[0m\u001b[0;32m     47\u001b[0m \u001b[1;33m\u001b[0m\u001b[0m\n\u001b[0;32m     48\u001b[0m \u001b[1;33m\u001b[0m\u001b[0m\n",
      "\u001b[1;32m<ipython-input-98-721af581341b>\u001b[0m in \u001b[0;36mRunValidationYelp\u001b[1;34m(review_set, city, state)\u001b[0m\n\u001b[0;32m     39\u001b[0m         \u001b[1;31m#print text_cleaned\u001b[0m\u001b[1;33m\u001b[0m\u001b[1;33m\u001b[0m\u001b[0m\n\u001b[0;32m     40\u001b[0m         rank = SearchYelpReviews(text_cleaned,\n\u001b[1;32m---> 41\u001b[1;33m                                  location=\", \".join([city, state]), real_bus_URL=real_URL )\n\u001b[0m\u001b[0;32m     42\u001b[0m         \u001b[0mranks\u001b[0m\u001b[1;33m.\u001b[0m\u001b[0mappend\u001b[0m\u001b[1;33m(\u001b[0m\u001b[0mrank\u001b[0m\u001b[1;33m)\u001b[0m\u001b[1;33m\u001b[0m\u001b[0m\n\u001b[0;32m     43\u001b[0m     \u001b[1;32mreturn\u001b[0m \u001b[0mranks\u001b[0m\u001b[1;33m\u001b[0m\u001b[0m\n",
      "\u001b[1;32m<ipython-input-98-721af581341b>\u001b[0m in \u001b[0;36mSearchYelpReviews\u001b[1;34m(review, location, real_bus_URL)\u001b[0m\n\u001b[0;32m     10\u001b[0m     search_results = yelp_api.Search(term=review, location=location, \n\u001b[0;32m     11\u001b[0m \u001b[1;31m#                                  cll=str(lat)+','+str(lon), radius_filter=radius,\u001b[0m\u001b[1;33m\u001b[0m\u001b[1;33m\u001b[0m\u001b[0m\n\u001b[1;32m---> 12\u001b[1;33m                                  limit=20, category_filter='bars',) # location and search term are required\n\u001b[0m\u001b[0;32m     13\u001b[0m \u001b[1;33m\u001b[0m\u001b[0m\n\u001b[0;32m     14\u001b[0m     \u001b[1;32mfor\u001b[0m \u001b[0mi\u001b[0m\u001b[1;33m,\u001b[0m \u001b[0mbus\u001b[0m \u001b[1;32min\u001b[0m \u001b[0menumerate\u001b[0m\u001b[1;33m(\u001b[0m\u001b[0msearch_results\u001b[0m\u001b[1;33m.\u001b[0m\u001b[0mbusinesses\u001b[0m\u001b[1;33m)\u001b[0m\u001b[1;33m:\u001b[0m\u001b[1;33m\u001b[0m\u001b[0m\n",
      "\u001b[1;32m/home/carlson/anaconda/lib/python2.7/site-packages/yelp.pyc\u001b[0m in \u001b[0;36mSearch\u001b[1;34m(self, **kwargs)\u001b[0m\n\u001b[0;32m    124\u001b[0m         \u001b[0mresponse\u001b[0m \u001b[1;33m=\u001b[0m \u001b[0mjson\u001b[0m\u001b[1;33m.\u001b[0m\u001b[0mloads\u001b[0m\u001b[1;33m(\u001b[0m\u001b[0mresponse\u001b[0m\u001b[1;33m)\u001b[0m\u001b[1;33m\u001b[0m\u001b[0m\n\u001b[0;32m    125\u001b[0m         \u001b[1;32mif\u001b[0m \u001b[1;34m\"error\"\u001b[0m \u001b[1;32min\u001b[0m \u001b[0mresponse\u001b[0m\u001b[1;33m:\u001b[0m\u001b[1;33m\u001b[0m\u001b[0m\n\u001b[1;32m--> 126\u001b[1;33m             \u001b[1;32mraise\u001b[0m \u001b[0mException\u001b[0m\u001b[1;33m(\u001b[0m\u001b[0mresponse\u001b[0m\u001b[1;33m[\u001b[0m\u001b[1;34m\"error\"\u001b[0m\u001b[1;33m]\u001b[0m\u001b[1;33m)\u001b[0m\u001b[1;33m\u001b[0m\u001b[0m\n\u001b[0m\u001b[0;32m    127\u001b[0m         \u001b[1;32mreturn\u001b[0m \u001b[0mSearchResultSet\u001b[0m\u001b[1;33m.\u001b[0m\u001b[0mNewFromJsonDict\u001b[0m\u001b[1;33m(\u001b[0m\u001b[0mresponse\u001b[0m\u001b[1;33m)\u001b[0m\u001b[1;33m\u001b[0m\u001b[0m\n\u001b[0;32m    128\u001b[0m \u001b[1;33m\u001b[0m\u001b[0m\n",
      "\u001b[1;31mException\u001b[0m: {u'text': u'One or more parameters are invalid in request', u'id': u'INVALID_PARAMETER', u'field': u'term'}"
     ]
    }
   ],
   "source": [
    "import yelp\n",
    "\n",
    "yelp_api = yelp.Api(consumer_key='SddBgAA4qAbxz-UhAS0D7A',\n",
    "                    consumer_secret='z-d2Q7yB963kMcusvLVm9I2Jylg',\n",
    "                    access_token_key='KL574SXMJijEoO1_poHKhm6gHnSbwNlS',\n",
    "                    access_token_secret='bn7i1wGZ8hNK5MLuykvMwfpEB4g')\n",
    "\n",
    "\n",
    "def SearchYelpReviews(review, location, real_bus_URL):\n",
    "    search_results = yelp_api.Search(term=review, location=location, \n",
    "#                                  cll=str(lat)+','+str(lon), radius_filter=radius, \n",
    "                                 limit=20, category_filter='bars',) # location and search term are required\n",
    "    \n",
    "    for i, bus in enumerate(search_results.businesses):\n",
    "        if bus.url == real_bus_URL:\n",
    "            return i+1\n",
    "        else:\n",
    "            return 999\n",
    "\n",
    "import nltk_helper\n",
    "from itertools import chain \n",
    "\n",
    "def RunValidationYelp(review_set, city, state):\n",
    "    \n",
    "    ranks, doc_lengths = [], [] \n",
    "    bids = get_bus_ids_city_state(city, state)\n",
    "    validation_set = review_set[review_set.business_id.isin(bids)]\n",
    "    \n",
    "    \n",
    "    for i_rev in range(50):#len(validation_set)):\n",
    "        row = validation_set.iloc[i_rev]\n",
    "\n",
    "        if (i_rev%50==0): \n",
    "            print '\\r progress %i of'%i_rev, len(validation_set), \n",
    "\n",
    "        real_URL = df_businesses.URL[row.business_id==df_businesses.business_id].values[0]\n",
    "        text_cleaned = nltk_helper.clean_and_tokenize(row.text)\n",
    "        text_cleaned = \",\".join(list(chain.from_iterable(text_cleaned))[:8])\n",
    "        #print text_cleaned\n",
    "        rank = SearchYelpReviews(text_cleaned,\n",
    "                                 location=\", \".join([city, state]), real_bus_URL=real_URL )\n",
    "        ranks.append(rank)\n",
    "    return ranks\n",
    "        \n",
    "        \n",
    "ranks = RunValidationYelp(review_test, 'San Francisco', 'CA')\n",
    "\n",
    "\n",
    "\n",
    "\n",
    "#search_results.businesses[0].url = search_results.businesses[0].url.split('?')[0]"
   ]
  },
  {
   "cell_type": "code",
   "execution_count": 67,
   "metadata": {
    "collapsed": false
   },
   "outputs": [
    {
     "data": {
      "text/plain": [
       "0                                                     NaN\n",
       "1                                                     NaN\n",
       "2                                                     NaN\n",
       "3                                                     NaN\n",
       "4                                                     NaN\n",
       "5                                                     NaN\n",
       "6                                                     NaN\n",
       "7                                                     NaN\n",
       "8                                                     NaN\n",
       "9                                                     NaN\n",
       "10                                                    NaN\n",
       "11                                                    NaN\n",
       "12                                                    NaN\n",
       "13                                                    NaN\n",
       "14                                                    NaN\n",
       "15                                                    NaN\n",
       "16                                                    NaN\n",
       "17                                                    NaN\n",
       "18                                                    NaN\n",
       "19                                                    NaN\n",
       "20                                                    NaN\n",
       "21                                                    NaN\n",
       "22                                                    NaN\n",
       "23                                                    NaN\n",
       "24                                                    NaN\n",
       "25                                                    NaN\n",
       "26                                                    NaN\n",
       "27                                                    NaN\n",
       "28                                                    NaN\n",
       "29                                                    NaN\n",
       "                              ...                        \n",
       "1005    http://www.yelp.com/biz/fog-lifter-cafe-san-fr...\n",
       "1006    http://www.yelp.com/biz/kume-foot-spa-and-tea-...\n",
       "1007    http://www.yelp.com/biz/thieves-tavern-san-fra...\n",
       "1008    http://www.yelp.com/biz/rosedale-floral-design...\n",
       "1009    http://www.yelp.com/biz/the-vine-wine-and-tapa...\n",
       "1010    http://www.yelp.com/biz/bar-agricole-san-franc...\n",
       "1011     http://www.yelp.com/biz/el-tin-tan-san-francisco\n",
       "1012     http://www.yelp.com/biz/roccapulco-san-francisco\n",
       "1013    http://www.yelp.com/biz/alameda-wine-co-alameda-2\n",
       "1014                http://www.yelp.com/biz/radio-oakland\n",
       "1015    http://www.yelp.com/biz/furniture-envy-san-fra...\n",
       "1016      http://www.yelp.com/biz/la-penca-azul-alameda-3\n",
       "1017    http://www.yelp.com/biz/111-minna-gallery-san-...\n",
       "1018    http://www.yelp.com/biz/art-deco-collection-oa...\n",
       "1019    http://www.yelp.com/biz/the-perennial-san-fran...\n",
       "1020     http://www.yelp.com/biz/uptown-nightclub-oakland\n",
       "1021       http://www.yelp.com/biz/munchery-san-francisco\n",
       "1022    http://www.yelp.com/biz/tequila-grill-mexican-...\n",
       "1023    http://www.yelp.com/biz/kells-irish-restaurant...\n",
       "1024    http://www.yelp.com/biz/ferry-plaza-wine-merch...\n",
       "1025    http://www.yelp.com/biz/the-wreck-room-san-fra...\n",
       "1026    http://www.yelp.com/biz/e-one-entertainment-oa...\n",
       "1027    http://www.yelp.com/biz/fayes-video-and-espres...\n",
       "1028    http://www.yelp.com/biz/pressed-juicery-san-fr...\n",
       "1029    http://www.yelp.com/biz/the-napper-tandy-san-f...\n",
       "1030    http://www.yelp.com/biz/rickshaw-stop-san-fran...\n",
       "1031         http://www.yelp.com/biz/perrys-san-francisco\n",
       "1032    http://www.yelp.com/biz/cafe-du-nord-san-franc...\n",
       "1033    http://www.yelp.com/biz/am%C3%A9lie-san-franci...\n",
       "1034    http://www.yelp.com/biz/jakes-steaks-san-franc...\n",
       "Name: URL, dtype: object"
      ]
     },
     "execution_count": 67,
     "metadata": {},
     "output_type": "execute_result"
    }
   ],
   "source": [
    "df_businesses.URL"
   ]
  },
  {
   "cell_type": "code",
   "execution_count": 33,
   "metadata": {
    "collapsed": false
   },
   "outputs": [
    {
     "data": {
      "text/plain": [
       "{u'Ahwatukee',\n",
       " u'Anthem',\n",
       " u'Apache Junction',\n",
       " u'Avondale',\n",
       " u'Beaconsfield',\n",
       " u'Belmont',\n",
       " u'Bloomfield',\n",
       " u'Boisbriand',\n",
       " u'Boulder City',\n",
       " u'Braddock',\n",
       " u'Bridgeville',\n",
       " u'Brossard',\n",
       " u'Buckeye',\n",
       " u'Cambridge',\n",
       " u'Carefree',\n",
       " u'Carnegie',\n",
       " u'Casa Grande',\n",
       " u'Cave Creek',\n",
       " u'Champaign',\n",
       " u'Chandler',\n",
       " u'Charlotte',\n",
       " u'Chateau',\n",
       " u'Concord',\n",
       " u'Concord Mills',\n",
       " u'Coolidge',\n",
       " u'DeForest',\n",
       " u'Dollard-Des-Ormeaux',\n",
       " u'Dormont',\n",
       " u'Dorval',\n",
       " u'Edinburgh',\n",
       " u'Eggenstein-Leopoldshafen',\n",
       " u'Ettlingen',\n",
       " u'Fitchburg',\n",
       " u'Florence',\n",
       " u'Fort McDowell',\n",
       " u'Fort Mill',\n",
       " u'Fort mill',\n",
       " u'Fountain Hills',\n",
       " u'Gilbert',\n",
       " u'Glendale',\n",
       " u'Goodyear',\n",
       " u'Greenfield Park',\n",
       " u'Henderson',\n",
       " u'Higley',\n",
       " u'Homestead',\n",
       " u'Karlsruhe',\n",
       " u'Kitchener',\n",
       " u\"L'\\xcele-des-Soeurs\",\n",
       " u'Lake Wylie',\n",
       " u'Las Vegas',\n",
       " u'Las Vegas ',\n",
       " u'Lasswade',\n",
       " u'Laval',\n",
       " u'Laveen',\n",
       " u'Lawrenceville',\n",
       " u'Litchfield Park',\n",
       " u'Madison',\n",
       " u'Maricopa',\n",
       " u'Matthews',\n",
       " u'Mc Farland',\n",
       " u'McKees Rocks',\n",
       " u'Mcfarland',\n",
       " u'Mesa',\n",
       " u'Middleton',\n",
       " u'Millvale',\n",
       " u'Monona',\n",
       " u'Monroe',\n",
       " u'Montreal',\n",
       " u'Montr\\xe9al',\n",
       " u'Mont\\xe9al',\n",
       " u'Morristown',\n",
       " u'Munhall',\n",
       " u'Musselburgh',\n",
       " u'N. Las Vegas',\n",
       " u'New Town',\n",
       " u'Newington',\n",
       " u'North Las Vegas',\n",
       " u'North Scottsdale',\n",
       " u'Paradise',\n",
       " u'Paradise Valley',\n",
       " u'Peoria',\n",
       " u'Phoenix',\n",
       " u'Pineville',\n",
       " u'Pittsburgh',\n",
       " u'Pointe-Claire',\n",
       " u'Quebec',\n",
       " u'Queen Creek',\n",
       " u'Ratho',\n",
       " u'Saint-Leonard',\n",
       " u'San Tan Valley',\n",
       " u'Savoy',\n",
       " u'Scottsdale',\n",
       " u'Spring Valley',\n",
       " u'St. Jacobs',\n",
       " u'Stockbridge',\n",
       " u'Summerlin',\n",
       " u'Sun Prairie',\n",
       " u'Surprise',\n",
       " u'Swissvale',\n",
       " u'Tempe',\n",
       " u'Tolleson',\n",
       " u'Urbana',\n",
       " u'Verdun',\n",
       " u'Verona',\n",
       " u'Waterloo',\n",
       " u'Waunakee',\n",
       " u'Weingarten',\n",
       " u'West Homestead',\n",
       " u'West Mifflin',\n",
       " u'Westmount',\n",
       " u'Wickenburg'}"
      ]
     },
     "execution_count": 33,
     "metadata": {},
     "output_type": "execute_result"
    }
   ],
   "source": [
    "set(df_businesses[df_businesses.business_id.isin(set(review_test.business_id.values))].city)"
   ]
  },
  {
   "cell_type": "code",
   "execution_count": 15,
   "metadata": {
    "collapsed": false
   },
   "outputs": [
    {
     "name": "stdout",
     "output_type": "stream",
     "text": [
      "1035\n"
     ]
    }
   ],
   "source": [
    "print len(set(list(df_businesses.business_id[(df_businesses.city.str.lower()=='San Francisco'.lower()) \n",
    "                                     & (df_businesses.state.str.lower()=='ca')].values)))"
   ]
  },
  {
   "cell_type": "code",
   "execution_count": 23,
   "metadata": {
    "collapsed": false
   },
   "outputs": [
    {
     "data": {
      "text/plain": [
       "1035"
      ]
     },
     "execution_count": 23,
     "metadata": {},
     "output_type": "execute_result"
    }
   ],
   "source": [
    "def get_bus_ids_city_state(city, state):\n",
    "    return set(list(df_businesses.business_id[(df_businesses.city.str.lower()==city.lower()) \n",
    "                                     & (df_businesses.state.str.lower()==state.lower())].values))\n",
    "\n",
    "len(get_bus_ids_city_state('San Francisco', 'CA'))"
   ]
  },
  {
   "cell_type": "code",
   "execution_count": 5,
   "metadata": {
    "collapsed": false
   },
   "outputs": [
    {
     "name": "stdout",
     "output_type": "stream",
     "text": [
      "(5620, 30)\n",
      "[ 0.          0.35656793  0.8043929  ...,  0.67698329  0.73591688\n",
      "  0.97432134]\n"
     ]
    }
   ],
   "source": [
    "import pandas as pd \n",
    "\n",
    "bus_lda_vecs = pd.read_pickle('../output/business_LDA_vectors.pickle')\n",
    "top_vecs = np.vstack(bus_lda_vecs.topic_vector.values)\n",
    "\n",
    "top_vecs = (top_vecs.T/np.sum(top_vecs, axis=1)).T\n",
    "print top_vecs.shape\n",
    "\n",
    "\n",
    "def hel(p,q):\n",
    "    return np.linalg.norm(np.sqrt(p) - np.sqrt(q), axis=1) / np.sqrt(2)\n",
    "\n",
    "\n",
    "print hel(top_vecs[0], top_vecs)\n"
   ]
  },
  {
   "cell_type": "code",
   "execution_count": null,
   "metadata": {
    "collapsed": true
   },
   "outputs": [],
   "source": []
  }
 ],
 "metadata": {
  "kernelspec": {
   "display_name": "Python 2",
   "language": "python",
   "name": "python2"
  },
  "language_info": {
   "codemirror_mode": {
    "name": "ipython",
    "version": 2
   },
   "file_extension": ".py",
   "mimetype": "text/x-python",
   "name": "python",
   "nbconvert_exporter": "python",
   "pygments_lexer": "ipython2",
   "version": "2.7.11"
  }
 },
 "nbformat": 4,
 "nbformat_minor": 0
}
