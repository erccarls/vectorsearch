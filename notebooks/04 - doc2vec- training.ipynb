{
 "cells": [
  {
   "cell_type": "code",
   "execution_count": 1,
   "metadata": {
    "collapsed": false
   },
   "outputs": [
    {
     "data": {
      "text/html": [
       "<div>\n",
       "<table border=\"1\" class=\"dataframe\">\n",
       "  <thead>\n",
       "    <tr style=\"text-align: right;\">\n",
       "      <th></th>\n",
       "      <th>business_id</th>\n",
       "      <th>date</th>\n",
       "      <th>review_id</th>\n",
       "      <th>stars</th>\n",
       "      <th>text</th>\n",
       "      <th>type</th>\n",
       "      <th>user_id</th>\n",
       "      <th>votes_cool</th>\n",
       "      <th>votes_funny</th>\n",
       "      <th>votes_useful</th>\n",
       "      <th>cleaned_tokenized</th>\n",
       "    </tr>\n",
       "  </thead>\n",
       "  <tbody>\n",
       "    <tr>\n",
       "      <th>10</th>\n",
       "      <td>UsFtqoBl7naz8AVUBZMjQQ</td>\n",
       "      <td>2013-11-08</td>\n",
       "      <td>Di3exaUCFNw1V4kSNW5pgA</td>\n",
       "      <td>5</td>\n",
       "      <td>All the food is great here. But the best thing...</td>\n",
       "      <td>review</td>\n",
       "      <td>uK8tzraOp4M5u3uYrqIBXg</td>\n",
       "      <td>0.0</td>\n",
       "      <td>0.0</td>\n",
       "      <td>0.0</td>\n",
       "      <td>[[food, great], [best, thing, wing], [wing, si...</td>\n",
       "    </tr>\n",
       "    <tr>\n",
       "      <th>11</th>\n",
       "      <td>UsFtqoBl7naz8AVUBZMjQQ</td>\n",
       "      <td>2014-03-29</td>\n",
       "      <td>0Lua2-PbqEQMjD9r89-asw</td>\n",
       "      <td>3</td>\n",
       "      <td>We checked this place out this past Monday for...</td>\n",
       "      <td>review</td>\n",
       "      <td>I_47G-R2_egp7ME5u_ltew</td>\n",
       "      <td>0.0</td>\n",
       "      <td>0.0</td>\n",
       "      <td>0.0</td>\n",
       "      <td>[[checked, place, past, monday, wing-night], [...</td>\n",
       "    </tr>\n",
       "  </tbody>\n",
       "</table>\n",
       "</div>"
      ],
      "text/plain": [
       "               business_id        date               review_id stars  \\\n",
       "10  UsFtqoBl7naz8AVUBZMjQQ  2013-11-08  Di3exaUCFNw1V4kSNW5pgA     5   \n",
       "11  UsFtqoBl7naz8AVUBZMjQQ  2014-03-29  0Lua2-PbqEQMjD9r89-asw     3   \n",
       "\n",
       "                                                 text    type  \\\n",
       "10  All the food is great here. But the best thing...  review   \n",
       "11  We checked this place out this past Monday for...  review   \n",
       "\n",
       "                   user_id  votes_cool  votes_funny  votes_useful  \\\n",
       "10  uK8tzraOp4M5u3uYrqIBXg         0.0          0.0           0.0   \n",
       "11  I_47G-R2_egp7ME5u_ltew         0.0          0.0           0.0   \n",
       "\n",
       "                                    cleaned_tokenized  \n",
       "10  [[food, great], [best, thing, wing], [wing, si...  \n",
       "11  [[checked, place, past, monday, wing-night], [...  "
      ]
     },
     "execution_count": 1,
     "metadata": {},
     "output_type": "execute_result"
    }
   ],
   "source": [
    "import pandas as pd\n",
    "import pickle\n",
    "import numpy as np\n",
    "\n",
    "# Load the bar review dataset \n",
    "review = pd.read_pickle('../output/bar_reviews_cleaned_and_tokenized_SF.pickle')\n",
    "review.head(2)"
   ]
  },
  {
   "cell_type": "code",
   "execution_count": 2,
   "metadata": {
    "collapsed": false
   },
   "outputs": [],
   "source": [
    "# Load the training users\n",
    "user_set_training = pickle.load(open('../output/training_users.pickle', 'rb'))\n",
    "# Make the active review set training only \n",
    "review = review[review.user_id.isin(user_set_training)]\n"
   ]
  },
  {
   "cell_type": "code",
   "execution_count": 3,
   "metadata": {
    "collapsed": false
   },
   "outputs": [
    {
     "name": "stdout",
     "output_type": "stream",
     "text": [
      " Fraction Processed 0.99964431798\n",
      "5623\n"
     ]
    }
   ],
   "source": [
    "from collections import OrderedDict\n",
    "from itertools import chain\n",
    "\n",
    "\n",
    "# n_reviews = 100 # all of them... \n",
    "# Flatten the reviews, so each review is just a single list of words.\n",
    "reviews_merged_bus = OrderedDict()\n",
    "business_set = set(review.business_id.values[:])\n",
    "for i_bus, bus_id in enumerate(business_set):\n",
    "    if ((i_bus%5)==0):\n",
    "        print '\\r Fraction Processed',float(i_bus+1)/len(business_set),\n",
    "    # This horrible line first collapses each review of a corresponding business into a list\n",
    "    # of lists, and then collapses the list of sentences to a long list of words\n",
    "    reviews_merged_bus[bus_id] = list(chain.from_iterable(chain.from_iterable( \n",
    "                                     review.cleaned_tokenized[review.business_id==bus_id] )) )\n",
    "docs_bus = reviews_merged_bus.values()\n",
    "print \n",
    "print len(docs_bus)"
   ]
  },
  {
   "cell_type": "code",
   "execution_count": 8,
   "metadata": {
    "collapsed": false,
    "scrolled": true
   },
   "outputs": [
    {
     "name": "stdout",
     "output_type": "stream",
     "text": [
      "The autoreload extension is already loaded. To reload it, use:\n",
      "  %reload_ext autoreload\n",
      "\n",
      "First Doc: \n",
      "-----------------\n",
      "TaggedDocument(['went', 'last', 'night', 'karaoke', 'flamin', 'steve', 'jenni', 'work', 'blast', 'gay', 'bar', 'a-bunch', u'u', 'great', 'selection', u'song', 'guy', u'run', 'running', 'karaoke', '15', u'year', 'nicely', 'decorated', 'guess', 'used-to', 'real', 'dive', u'goddess', 'room', 'clean', 'no', 'water', 'floor', 'gotta', 'say', 'though', 'gay', 'men', 'sing', u'song', 'werent', 'danzig', 'acdc', 'right', 'said', 'fred', u'rendition', 'would', 'fallen', 'asleep', 'staff', 'awesome', 'everyone', 'crowd', 'really', 'friendly', 'definitely', 'go-back', u'here', 'place', 'to-go', 'everybody', u'know', 'name', 'most', u'patron', 'happen-to', 'gay', 'love', 'coming', u'gay', 'hanging', u'drink', 'neighborhood', 'bar', 'crowd', 'supa', 'mixed', 'mean', 'else', 'go', 'hardened', 'biker', 'boy', 'compliment', 'nail-polish', 'choice', 'awesome', 'ive', 'also', 'threatened', 'stealing', u'shoe', 'as-well-as', 'asked', 'one', 'buy', 'lipstick', 'drag', 'queen', u'bartender', 'courteous', 'super', 'funny', 'fave', 'bartender', 'michael', u'he', 'cutie', 'great', 'pour', 'whether', 'youre', u'short', 't-shirt', 'dressed', u'nine', 'stop-in', 'youll', 'find', 'corner', 'fit', 'went', 'drag', 'king', 'contest', u'woman', 'very', 'over', 'weight', 'not', 'very', 'entertaining', 'bar', 'size', 'shack', 'definetly', 'older', 'male', 'crowd', 'lesbian', 'between', u'age', '21-35', 'not', 'spot', 'im', 'giving', u'apollo', 'four', u'star', 'a-lot', u'thing', 'look-for', 'bar', 'clean', 'well-maintained', 'including', u'goddess', 'restroom', 'also', 'friendly', 'staff', 'diverse', 'group', u'patron', 'great', 'outdoor', 'patio', 'featuring', 'roman', u'column', 'perhaps', 'most', 'importantly', u'feature', 'karaoke', 'thursday', '-', 'saturday', u'night', 'husband', 'went', 'friday', 'night', 'karaoke', 'stevey', 'p', 'kristin', u'so', 'great', 'time', u'singer', 'talent', 'definitely', 'better', 'average', 'karaoke', 'dive-bar', 'song', 'choice', 'good', 'avid', 'karaoke', 'singer', 'didnt', 'like', 'the-fact-that', 'no', 'separate', 'stage', 'area', 'carved', 'current', 'singer', 'stand', 'stand', u'chair', 'between', u'table', 'strain', u'neck', 'look-up', u'lyric', 'karaoke', 'also', 'wasnt', 'central', 'focus', 'place', 'much', 'very', 'loud', 'talking', 'socializing', 'going', 'in-spite-of', 'because-of', 'singing', 'im', 'not', 'going', 'penalize', u'apollo', 'too-much', 'though', 'know', 'serious', 'karaoke', u'freak', 'like', 'want', 'focus', 'one', 'other', 'complaint', '-', u'u', 'group', 'also', 'a-little', 'disappointed-with', 'weak', u'drink', '-', 'dont', 'know', 'crowd', 'control', 'final', 'tab', '70', 'or-so', 'expected', 'feeling', 'a-little', 'loopy', 'most', 'night', 'speaking', 'feeling', 'loopy', 'appreciative', 'helpful', u'bartender', 'wanted', 'call', 'cab', 'one', 'came', 'fairly', 'quickly', 'after', 'called', 'one', u'u', 'apparently', 'company', 'karaoke', 'the-same', 'one', 'kobalt', 'another', 'gay', 'bar', 'park', 'central', 'complex', 'social', 'dynamic', 'bar', 'scene', 'pretty', 'diverse', 'crowd', 'karaoke', 'part', 'experience', 'really', 'like', 'apollo', 'however', 'ever', 'want-to', 'go', 'somewhere', 'a-little', 'low-key', 'really', 'focus', 'karaoke', 'part', 'might', 'want-to', 'check', 'kobalt', 'went', 'a-few', u'friend', 'birthday', 'gathering', 'co-worker', 'hadnt', u'apollo', u'year', 'wasnt', 'really', 'looking', 'forward', 'since', 'last', 'time', 'a-bunch', 'old', u'guy', 'have-to-say', 'wasnt', 'bad', 'experience', 'place', 'definitely', 'changed', 'way', 'bright', 'crowd', 'mixed', 'old', u'v', 'younger', 'although', 'not', 'young', u'bartender', 'pleasant', 'one', 'bartender', 'a-little', 'overboard', 'talking', 'bad', 'other', u'bar', 'kind-of', u'turn', 'still', 'friendly', 'overall', 'wont', 'hangout', 'fun', 'night', 'as-long-as', 'youre', 'group', 'know', 'went', u'apollo', 'saturday', 'night', 'group', 'included', 'kristin', 'christine', 'significant', 'others', 'apparently', u'weekend', 'karaoke', 'let', 'tell', 'not', 'average', 'karaoke', 'experience', 'mean', 'karaoke', '34', 'people', 'sing', 'actually', 'decent', 'really', 'good', u'voice', 'geez', 'horrible', 'screeching', u'rendition', 'total', 'eclipse', 'heart', 'oh', 'right', 'husband', 'sang', 'awful', 'funny', 'way', 'go-to', 'participate', 'karaoke', 'plenty', 'tv', u'screen', u'word', 'really', 'liked', 'a-few', u'tv', 'reserved', 'show', 'football', 'sportscenter', u'apollo', 'moderately', 'sized', 'establishment', 'outdoor', 'patio', 'saw', u'lady', 'bathroom', 'cleverly', 'marked', u'goddess', 'sign', 'tiny', 'however', 'never', 'line', 'most', 'crowd', 'male', 'persuasion', 'husband', 'beer', 'cant', 'comment-on', u'price', 'mixed', u'drink', u'shot', 'beer', 'cheaper', 'most', u'place', 'valley', 'bud', 'light', u'draft', '275', 'fat', 'tire', u'draft', '3', 'since', 'designated', 'driver', 'evening', 'switched', 'soda', 'halfway', 'night', '2', 'included', 'free', u'refill', u'bartender', 'extremely', 'friendly', 'very', 'prompt', 'service', 'also', 'waiter', u'float', 'throughout', 'space', 'dont', 'want-to', 'go', 'bar', 'crowd', 'flowed', 'throughout', 'evening', 'never', 'got', 'full', 'people', 'getting', 'knocked', 'impossible', 'move', 'very', 'laid', 'back', 'place', 'hang-out', 'chat', 'enjoy', 'singing', 'along-with', 'sweet', 'caroline', 'crowd', u'apollo', 'always', 'seems', 'pretty', 'diverse', 'stopped', 'second', 'third', 'time', 'friend', 'saturday', 'night', 'virtually', 'every', 'group', 'seemed', 'represented', u'apollo', 'charming', 'sense', 'completely', u'lack', 'pretentiousness', 'hip', u'bar', 'scottsdale', 'phoenix', 'karaoke', 'night', 'always', 'great', 'idea', 'dude', 'singing', 'creed', 'weird', 'right', u'drink', 'nice-and', 'stiff', 'even-if', u'apollo', 'isnt', 'weekly', 'hangout', 'list', 'definitely', 'like', 'overall', 'vibe', 'think', 'also', 'one', 'oldest', 'gay', u'bar', 'phoenix', 'ahhh', u'apollo', 'little', 'gay', 'bay', 'street', u'apollo', 'evolved', 'over-the-years', 'ive', 'good', u'time', 'and-now', 'makeover', 'almost', 'complete', u'bathroom', 'renovated', 'soon', 'hope', 'might', 'going', 'back', 'often', 'surly', u'bartender', 'long', 'replaced', 'huge', 'patio', 'constructed', 'although', 'no', 'longer', 'smoke', 'enjoyable', 'area', 'although', 'not', 'first', 'choice', u'bar', 'stop-by', 'time', 'time', 'enjoy', 'well', 'made', 'read', 'strong', 'cocktail', 'catch-up-with', u'bud', 'best', u'night', 'opinion', 'karaoke', 'nites', 'place', 'normally', u'pack', 'very', 'diverse', 'crowd', 'aside-from', u'issue', u'men', 'bathroom', u'padlock', 'worse', 'overly', 'bright', 'lighting', 'bar', 'getting', 'better', 'after', 'chatting', 'owner', 'great', 'know', 'in-touch', u'patron', 'quickly', 'address', u'issue', 'im', 'really', 'looking', 'forward', 'completion', u'renovation', 'went', 'last', 'night', 'cheap', u'drink', 'friendly', 'staff', 'return', 'im', 'not', 'really', 'fan', 'place', 'seems', 'awfully', 'crowded', 'hard', 'navigate', 'worse', 'though', 'charge', '6', 'red', 'bull', 'no', 'liquor', 'bunkhouse', 'usually', u'charge', '2', 'back', 'patio', 'small', 'skinny', 'whereas', 'the-usual', 'clientele', 'not', 'one', 'time', u'apollo', 'gay', u'dude', 'asked', 'friend', 'real', u'woman', 'knew', 'waxed', 'mustache', 'going', 'night', 'never-mind', 'always', 'feel', 'like', 'diva', u'girl', u'apollo', 'a-handful', u'time', 'karaoke', 'im', 'always', 'drunken', 'mess', 'every', 'time', 'leave', 'well', 'certainly', 'cant', 'handle', 'liquor', u'drink', 'poured', 'well', 'cheap', 'cheap', u'drink', 'first-time', 'think', 'pink', 'panther', u'martini', '4', 'great', 'place', 'gather', 'a-bunch', u'friend', 'karaoke', 'yes', 'gay', 'bar', 'coolest', 'one', 'ive', 'always', 'met', 'great', u'guy', 'never', 'interested-in', 'always', 'nice-and', 'willing', 'sing', 'duet', 'karaoke', 'host', 'always', 'fun', 'not', 'mic', 'hog', 'like', u'place', 'complaint', 'gay', u'friend', 'like', 'sing', u'lot', 'show', u'tune', 'boring', 'definitely', 'great', u'performer', 'most', 'good', 'time', 'dont', 'feel', 'like', 'need', 'belt', 'like', 'whitney', 'houston', 'come', 'favorite', u'thing', u'apollo', '1', 'free', 'fresh', 'popcorn', 'best', 'thing', 'munch', 'after', 'youve', 'a-lot', 'drink', '2', u'lady', 'room', 'never', 'line', 'mainly', 'gay', u'dude', 'frequent', 'place', 'love', u'apollo', 'much', 'better', u'experience', 'experienced', 'initial', 'review', u'price', 'in-line', 'other', u'bar', 'like', 'phoenix', u'owner', 'very', 'supportive', 'community', 'count', 'something', 'may', 'cranky', 'mood', 'posted', 'initial', 'review', 'nice', 'patio', 'good', 'seating', 'shade', 'youre', 'going', 'to-go', u'apollo', 'karaoke', 'probably', 'start', 'practicing', 'fake', 'im', u'writ', 'routine', 'youre', 'going', 'need', 'think', u'le', 'hip-hop', 'along', u'line', 'show', u'tune', 'old', u'ballad', 'shit', 'around', 'born', 'dont', 'get', 'wrong', 'though', 'dig', 'free', 'popcorn', 'free', u'condom', 'pours', 'strong', 'enough', 'get', 'date', 'put-out', 'im', 'guessing', 'a-lot', 'putting', 'gone', u'men', 'bathroom', 'door', 'permanently', 'propped', 'open', 'always', 'great', 'place', u'owner', 'really', 'nice-and', 'service', 'great', 'stop-by', 'time', 'time', 'always', u'feel', 'like', 'never', 'left', 'added', 'bonus', 'people', 'remember', 'name', 'love', 'pretty', 'diverse', 'group', 'people', 'drink', u'special', 'really', 'affordable', 'non-special', u'drink', 'affordable', 'went', 'karaoke', 'evening', 'drunk', 'great', 'not', '1', 'choice', 'gay', 'bar', 'phoenix', 'list', 'breeder', 'favorite', 'gay', 'bar', u'bartender', 'hilarious', u'drink', 'cheap', u'wall', 'salmon', 'scene', 'usually', 'mix', 'gay', 'men', 'pretty', u'girl', 'win', 'like', 'sing', 'karaoke', 'place', 'sing', 'prince', 'mostly', 'awful', 'falsetto', 'still', 'get', 'cheered', u'apollo', 'like', 'neighborhood', 'gay', 'bar', 'small', 'patio', 'smoking', 'parking-lot', 'bigger', 'come-on', u'monday', 'drag', 'bingo', 'thats', 'right', 'bingo', 'hosted', 'drag', 'queen', 'game', 'naughty', 'perverted', 'bingo', u'game', 'adult', u'prize', 'winning', u'monday', 'also', 'two', 'one', 'see', 'hannah', 'behind', 'bar', 'shell', 'take-care-of', 'also', u'apollo', 'fun', u'sunday', 'various', 'drag', u'show', u'stripper', 'afterwards', 'wonderful', 'neighborhood', 'feeling', 'bartender', 'nikki', 'best', 'hands-down', 'very', 'attentive', 'personable', 'bartender', 'not', 'phony', 'like', 'a-lot', 'valley', u'bartender', 'nikki', 'keep-it-up', 'girl', 'never-again', 'a-few', u'year', 'back', 'treated', 'horrible', 'service', 'approached', 'owner', 'treated', u'u', 'like', 'crap', 'boycotted', 'bar', '2', u'year', 'tried', 'once-again', 'prove', 'a-holes', 'plenty', 'friendly', u'bar', 'appreciate', 'business', 'im', 'feeling', 'low', 'looking', 'great', 'atmosphere', 'cheer', 'go', 'great', u'drink', 'staff', 'very', 'nice', 'throw', 'a-little', 'karaoke', 'fun', 'most', 'definetly', 'place', 'very', 'upset', 'place', 'im', 'outside', 'beer', 'garden', 'cigarette', 'owner', 'came', 'said', 'smell', 'pot', 'person', 'told', 'medical', 'patient', 'medicated', 'got', 'bar', 'told', 'not', 'smoke', 'parking-lot', 'told', 'havent', 'know', u'law', 'accused', 'smoking', 'parking-lot', 'really', 'feel', 'discriminated', 'not', 'come-back', 'even', 'u', 'respect', u'rule', 'feel', 'discriminate', 'u', 'call', 'u', 'in-front-of', 'everyone', 'definitely', 'not', 'coming', 'back', 'heard', 'friend', 'place', 'awesome', 'hang-out', 'good', 'beer', 'make-good', u'drink', 'wellwill', 'others', 'friend', 'tried', 'last', 'night', 'went', 'see', 'drag', 'queen', 'show', 'really', 'make', 'weekend', 'worth', u'apollo', 'fun', 'experience', 'checked', 'bank', 'account', 'find', 'erroneously', 'overcharged', 'over', '3500', 'called', 'tried', 'tell', 'debit', 'hold', 'tip', 'not', 'week', 'later', 'charge', 'went', 'said', 'would', 'someone', 'call', 'back', 'not', 'got', 'run', 'around', 'gave', 'very', 'generous', 'tip', 'expense', 'have-fun', 'check', 'bank', 'account', 'dont', 'play', u'rule', 'fun'], [u'Di3exaUCFNw1V4kSNW5pgA'])\n"
     ]
    }
   ],
   "source": [
    "\n",
    "\n",
    "%load_ext autoreload\n",
    "%autoreload 2\n",
    "\n",
    "\n",
    "import gensim\n",
    "from itertools import chain\n",
    "import sys\n",
    "sys.path.append('../vectorsearch/')\n",
    "import nltk_helper\n",
    "import doc2vec\n",
    "from gensim.models.doc2vec import TaggedDocument\n",
    "import pandas as pd\n",
    "n_epochs = 10\n",
    "n_docs = 10 # -1 for almost all of them...\n",
    "\n",
    "# Collapse each review to a 1D list of words.\n",
    "#review_flatten = [list(chain.from_iterable(doc)) for doc in review.cleaned_tokenized[:n_docs]]\n",
    "\n",
    "\n",
    "# Generate the tagged document list. \n",
    "docs = [TaggedDocument(words, [review.review_id.iloc[index]])\n",
    "                             for index, words in enumerate(docs_bus[:])]\n",
    "\n",
    "\n",
    "# A list of words for each review  \n",
    "#sentences = [doc.words for doc in docs]\n",
    "\n",
    "print '\\nFirst Doc: \\n-----------------\\n', docs[0]\n"
   ]
  },
  {
   "cell_type": "code",
   "execution_count": 11,
   "metadata": {
    "collapsed": false
   },
   "outputs": [
    {
     "name": "stdout",
     "output_type": "stream",
     "text": [
      "\n"
     ]
    }
   ],
   "source": [
    "model = doc2vec.Doc2Vec(min_count=5, window=8, size=50, sample=1e-4, negative=5, workers=12)\n",
    "# Build the vocab from list of sentences.\n",
    "model.build_vocab(docs) \n",
    "\n"
   ]
  },
  {
   "cell_type": "code",
   "execution_count": 12,
   "metadata": {
    "collapsed": false
   },
   "outputs": [
    {
     "name": "stdout",
     "output_type": "stream",
     "text": [
      "Training Epoch 10, alpha 0.0160\n"
     ]
    }
   ],
   "source": [
    "from random import shuffle\n",
    "\n",
    "for epoch in range(10):\n",
    "    print '\\rTraining Epoch %i, alpha %1.4f'%(epoch+1, model.alpha),\n",
    "    #model.train(np.random.permutation(docs))\n",
    "    shuffle(docs)\n",
    "    model.train(docs)\n",
    "    model.alpha -= 0.001 # decrease the learning rate\n",
    "    model.min_alpha = model.alpha # fix the learning rate, no decay\n",
    "\n",
    "model.init_sims(replace=True)    \n",
    "# # Normalize the word vectors.\n",
    "# vec_norms = np.sqrt(np.sum(model.syn0**2, axis=1))\n",
    "# model.syn0 = (model.syn0/vec_norms[:, numpy.newaxis])\n",
    "# # Normalize the doc vectors.\n",
    "# vec_norms = np.sqrt(np.sum(model.docvecs.doctag_syn0**2, axis=1))\n",
    "# model.docvecs.doctag_syn0 = (model.docvecs.doctag_syn0/vec_norms[:, numpy.newaxis])\n",
    "\n",
    "model.save('../output/doc2vec_bars.model')"
   ]
  },
  {
   "cell_type": "code",
   "execution_count": 13,
   "metadata": {
    "collapsed": false
   },
   "outputs": [
    {
     "name": "stdout",
     "output_type": "stream",
     "text": [
      "[(u'yyUJKvG-C4VipITrAS0nIQ', 0.6710823774337769), (u'g3fipTPN2LBe_U42niTDcw', 0.6688743829727173), (u'ANaGwB8tVAc1qM1QAJecsQ', 0.6611914038658142), (u'LVjRN5pMJ8hhDmX0lbclpQ', 0.6471917629241943), (u'YP-sxa8i95v_scvXN2o4_w', 0.6342615485191345), (u'XkyZAQAaGO9i3on-b3fswg', 0.6326159834861755), (u'qdTtkZVgcdu3SEA6tzBPdw', 0.6320397853851318), (u'L7eGNKkuy_XdQ_35Y1Kacg', 0.629540741443634), (u'cd46siFt_-08j9-kSbVEgA', 0.6246991157531738), (u'3mp5jXdxC2yqSK6sgRQfEg', 0.6225901246070862)] \n",
      "\n",
      "[('draft', 0.7733069062232971), (u'wine', 0.7592223882675171), ('tap', 0.7554447054862976), ('micro-brews', 0.7395221590995789), ('brew', 0.7344582080841064), (u'cocktail', 0.7317838072776794), ('draught', 0.7313833236694336), ('selection', 0.723392128944397), ('bottled', 0.71184903383255), ('whisky', 0.6925665140151978)] \n",
      "\n",
      "[(u'W3SROyBvrFKT5C2ySdx1qw', 0.44849711656570435), (u'6w6gMZ3iBLGcUM4RBIuifQ', 0.43213915824890137), (u'KCP4tSmVRD6Gk3xbPEAf3w', 0.3971535861492157), (u'3WsATGkAIXV-56eWjdzecw', 0.3879733681678772), (u'3jzEz2q9HZYF2XU1Gm41nA', 0.3710145354270935), (u'JS0gYaJR5HZDhZG0TJRRGg', 0.3570679724216461), (u'QSmI5Y9bhCLIw9YYKOiQkg', 0.34995037317276), (u'Bxn0LTYR9BxEeXReFbXDJA', 0.34519267082214355), (u'Ejw0lND0g8WBQj4pCllUnQ', 0.3383505046367645), (u'EaAo1G89msEiSQLi1jX_Hw', 0.33163875341415405)] \n",
      "\n",
      "[ u'My brother and I make the trek from N Scottsdale to The Drummer almost every weekend.   Jesse makes the HOTTEST suicide grilled wings on the planet - we love \\'em!  Service is great and the \"regulars\" are pretty friendly too.  Drink prices are good and there are plenty of TV\\'s.  One of the better \"dive bars\" in the area.']\n",
      "[('rory', 0.5823439359664917), ('carin', 0.5686616897583008), ('biotch', 0.5440913438796997), ('seit', 0.5418999195098877), ('uwe', 0.5400148034095764), ('reaffirms', 0.5130881071090698), ('accoustic', 0.512511134147644), ('gaurd', 0.5113624930381775), ('wrist', 0.5096732974052429), ('self-guided', 0.4946335256099701)] \n",
      "\n"
     ]
    }
   ],
   "source": [
    "# Can find similar documents..\n",
    "print model.docvecs.most_similar(positive=['KUinHkKyGhznElgIzx0yIw']), '\\n'\n",
    "\n",
    "# Can find similar words...Re: Dream Companies and contact from recruiters\n",
    "print model.most_similar(positive=['beer']), '\\n'\n",
    "\n",
    "# Can find documents that are most similar to keywords.... \n",
    "print model.docvecs.most_similar(positive=[model['beer'], model['music']]), '\\n'\n",
    "\n",
    "# Can find words that are most common in documents\n",
    "print review.text[review.review_id=='KUinHkKyGhznElgIzx0yIw'].values\n",
    "print model.most_similar(positive=[model.docvecs['KUinHkKyGhznElgIzx0yIw']]), '\\n'\n"
   ]
  },
  {
   "cell_type": "code",
   "execution_count": null,
   "metadata": {
    "collapsed": false
   },
   "outputs": [],
   "source": []
  },
  {
   "cell_type": "code",
   "execution_count": null,
   "metadata": {
    "collapsed": true
   },
   "outputs": [],
   "source": []
  }
 ],
 "metadata": {
  "kernelspec": {
   "display_name": "Python 2",
   "language": "python",
   "name": "python2"
  },
  "language_info": {
   "codemirror_mode": {
    "name": "ipython",
    "version": 2
   },
   "file_extension": ".py",
   "mimetype": "text/x-python",
   "name": "python",
   "nbconvert_exporter": "python",
   "pygments_lexer": "ipython2",
   "version": "2.7.11"
  }
 },
 "nbformat": 4,
 "nbformat_minor": 0
}
