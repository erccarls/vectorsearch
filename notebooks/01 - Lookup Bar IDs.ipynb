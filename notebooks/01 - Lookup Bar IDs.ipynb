{
 "cells": [
  {
   "cell_type": "code",
   "execution_count": 10,
   "metadata": {
    "collapsed": false
   },
   "outputs": [
    {
     "name": "stdout",
     "output_type": "stream",
     "text": [
      " category 0 of 23\n",
      " Processed 60000 of 61184 category 1 of 23\n",
      " Processed 60000 of 61184 category 2 of 23\n",
      " Processed 60000 of 61184 category 3 of 23\n",
      " Processed 60000 of 61184 category 4 of 23\n",
      " Processed 60000 of 61184 category 5 of 23\n",
      " Processed 60000 of 61184 category 6 of 23\n",
      " Processed 60000 of 61184 category 7 of 23\n",
      " Processed 60000 of 61184 category 8 of 23\n",
      " Processed 60000 of 61184 category 9 of 23\n",
      " Processed 60000 of 61184 category 10 of 23\n",
      " Processed 60000 of 61184 category 11 of 23\n",
      " Processed 60000 of 61184 category 12 of 23\n",
      " Processed 60000 of 61184 category 13 of 23\n",
      " Processed 60000 of 61184 category 14 of 23\n",
      " Processed 60000 of 61184 category 15 of 23\n",
      " Processed 60000 of 61184 category 16 of 23\n",
      " Processed 60000 of 61184 category 17 of 23\n",
      " Processed 60000 of 61184 category 18 of 23\n",
      " Processed 60000 of 61184 category 19 of 23\n",
      " Processed 60000 of 61184 category 20 of 23\n",
      " Processed 60000 of 61184 category 21 of 23\n",
      " Processed 60000 of 61184 category 22 of 23\n",
      " Processed 60000 of 61184\n"
     ]
    }
   ],
   "source": [
    "import pandas as pd\n",
    "business = pd.read_pickle('../input/yelp_academic_dataset_business.pickle')\n",
    "\n",
    "#print business.head(1)\n",
    "\n",
    "def GetBusinessIDs(business_data, category):\n",
    "    '''\n",
    "    Search the listings for business ids matching a given category\n",
    "    '''\n",
    "    ids = []\n",
    "    n_businesses = len(business_data.business_id)\n",
    "    for i_id, ID in enumerate(business_data.business_id):\n",
    "        cats = business_data.categories.iloc[i_id]\n",
    "        if category in cats:\n",
    "            ids.append(ID)\n",
    "        \n",
    "        if (i_id%10000)==0: \n",
    "            print '\\r Processed %i of %i'%(i_id, n_businesses), \n",
    "\n",
    "    return ids\n",
    "    \n",
    "    \n",
    "# unique_categories = set([cat for cats in business.categories for cat in cats])\n",
    "# for cat in unique_categories: \n",
    "#     print cat    \n",
    "\n",
    "bar_categories = [\"Lounges\", \"Hookah Bars\", \"Music Venues\", \"Beer Garden\", \"Pub Food\", \n",
    "                  \"Nightlife\", \"Dive Bars\", \"Cocktail Bars\", \"Distilleries\", \"Tapas Bars\", \"Piano Bars\",\n",
    "                  \"Jazz & Blues\", \"Irish\", \"Irish Pub\", \"Beer Bar\", \"Bars\", \"Gay Bars\", \"Champagne Bars\",\n",
    "                  \"Wine Bars\", \"Brasseries\", \"Gastropubs\", \"Breweries\", \"Restaurant\"]  # EXCLUDING RESTAURANT?\n",
    "\n",
    "business_ids = [] \n",
    "for i, cat in enumerate(bar_categories[:]):\n",
    "    print 'category %i of %i'%(i , len(bar_categories)) \n",
    "    business_ids += GetBusinessIDs(business, cat)\n",
    "    #print business_ids\n",
    "\n",
    "business_ids = set(business_ids)\n"
   ]
  },
  {
   "cell_type": "code",
   "execution_count": 11,
   "metadata": {
    "collapsed": true
   },
   "outputs": [],
   "source": [
    "import pickle\n",
    "#with open('../output/bar_ids.pickle', 'wb') as f:\n",
    "with open('../output/bar_restaurant_ids.pickle', 'wb') as f:\n",
    "    pickle.dump(business_ids, f)"
   ]
  },
  {
   "cell_type": "code",
   "execution_count": null,
   "metadata": {
    "collapsed": false
   },
   "outputs": [],
   "source": [
    "bar_ids = pickle.load(open('../output/bar_ids.pickle', 'r'))\n",
    "print len(bar_ids)"
   ]
  },
  {
   "cell_type": "code",
   "execution_count": null,
   "metadata": {
    "collapsed": true
   },
   "outputs": [],
   "source": []
  },
  {
   "cell_type": "code",
   "execution_count": null,
   "metadata": {
    "collapsed": false
   },
   "outputs": [],
   "source": []
  },
  {
   "cell_type": "code",
   "execution_count": null,
   "metadata": {
    "collapsed": true
   },
   "outputs": [],
   "source": []
  }
 ],
 "metadata": {
  "kernelspec": {
   "display_name": "Python 2",
   "language": "python",
   "name": "python2"
  },
  "language_info": {
   "codemirror_mode": {
    "name": "ipython",
    "version": 2
   },
   "file_extension": ".py",
   "mimetype": "text/x-python",
   "name": "python",
   "nbconvert_exporter": "python",
   "pygments_lexer": "ipython2",
   "version": "2.7.11"
  }
 },
 "nbformat": 4,
 "nbformat_minor": 0
}
