{
 "cells": [
  {
   "cell_type": "code",
   "execution_count": 4,
   "metadata": {
    "collapsed": false
   },
   "outputs": [
    {
     "name": "stdout",
     "output_type": "stream",
     "text": [
      " Processed 60000 of 61184\n"
     ]
    }
   ],
   "source": [
    "import pandas as pd\n",
    "business = pd.read_pickle('../input/yelp_academic_dataset_business.pickle')\n",
    "\n",
    "#print business.head(1)\n",
    "\n",
    "def GetBusinessIDs(business_data, category):\n",
    "    '''\n",
    "    Search the listings for business ids matching a given category\n",
    "    '''\n",
    "    ids = []\n",
    "    n_businesses = len(business_data.business_id)\n",
    "    for i_id, ID in enumerate(business_data.business_id):\n",
    "        cats = business_data.categories.iloc[i_id]\n",
    "        if category in cats:\n",
    "            ids.append(ID)\n",
    "        \n",
    "        if (i_id%10000)==0: \n",
    "            print '\\r Processed %i of %i'%(i_id, n_businesses), \n",
    "\n",
    "    return ids\n",
    "    \n",
    "    \n",
    "# unique_categories = set([cat for cats in business.categories for cat in cats])\n",
    "# for cat in unique_categories: \n",
    "#     print cat    \n",
    "\n",
    "bar_categories = [\"Lounges\", \"Hookah Bars\", \"Music Venues\", \"Beer Garden\", \"Pub Food\", \n",
    "                  \"Nightlife\", \"Dive Bars\", \"Cocktail Bars\", \"Distilleries\", \"Tapas Bars\", \"Piano Bars\",\n",
    "                  \"Jazz & Blues\", \"Irish\", \"Irish Pub\", \"Beer Bar\", \"Bars\", \"Gay Bars\", \"Champagne Bars\",\n",
    "                  \"Wine Bars\", \"Brasseries\", \"Gastropubs\", \"Breweries\"]  # EXCLUDING RESTAURANT \n",
    "\n",
    "business_ids = [] \n",
    "for cat in bar_categories[:]:\n",
    "    business_ids += GetBusinessIDs(business, cat)\n",
    "    #print business_ids\n",
    "\n",
    "business_ids = set(business_ids)\n"
   ]
  },
  {
   "cell_type": "code",
   "execution_count": 5,
   "metadata": {
    "collapsed": true
   },
   "outputs": [],
   "source": [
    "import pickle\n",
    "with open('../output/bar_ids.pickle', 'wb') as f:\n",
    "    pickle.dump(business_ids, f)"
   ]
  },
  {
   "cell_type": "code",
   "execution_count": 6,
   "metadata": {
    "collapsed": false
   },
   "outputs": [
    {
     "name": "stdout",
     "output_type": "stream",
     "text": [
      "4655\n"
     ]
    }
   ],
   "source": [
    "bar_ids = pickle.load(open('../output/bar_ids.pickle', 'r'))\n",
    "print len(bar_ids)"
   ]
  },
  {
   "cell_type": "code",
   "execution_count": null,
   "metadata": {
    "collapsed": true
   },
   "outputs": [],
   "source": []
  },
  {
   "cell_type": "code",
   "execution_count": null,
   "metadata": {
    "collapsed": false
   },
   "outputs": [],
   "source": []
  },
  {
   "cell_type": "code",
   "execution_count": null,
   "metadata": {
    "collapsed": true
   },
   "outputs": [],
   "source": []
  }
 ],
 "metadata": {
  "kernelspec": {
   "display_name": "Python 2",
   "language": "python",
   "name": "python2"
  },
  "language_info": {
   "codemirror_mode": {
    "name": "ipython",
    "version": 2
   },
   "file_extension": ".py",
   "mimetype": "text/x-python",
   "name": "python",
   "nbconvert_exporter": "python",
   "pygments_lexer": "ipython2",
   "version": "2.7.11"
  }
 },
 "nbformat": 4,
 "nbformat_minor": 0
}
