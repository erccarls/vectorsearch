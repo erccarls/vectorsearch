{
 "cells": [
  {
   "cell_type": "code",
   "execution_count": 23,
   "metadata": {
    "collapsed": false
   },
   "outputs": [],
   "source": [
    "from sklearn.neural_network import MLPRegressor\n",
    "\n",
    "MLP = MLPRegressor(hidden_layer_sizes=(50, ), activation='relu', algorithm='adam', alpha=0.0001, \n",
    "                   batch_size='auto', learning_rate='constant', learning_rate_init=0.001, power_t=0.5,\n",
    "                   max_iter=100, shuffle=True, random_state=None, tol=0.0001, verbose=False, warm_start=False,\n",
    "                   momentum=0.9, nesterovs_momentum=True, early_stopping=False,validation_fraction=0.1,\n",
    "                   beta_1=0.9, beta_2=0.999, epsilon=1e-08)\n"
   ]
  },
  {
   "cell_type": "code",
   "execution_count": 24,
   "metadata": {
    "collapsed": false
   },
   "outputs": [
    {
     "name": "stdout",
     "output_type": "stream",
     "text": [
      "RMS Training Error 2.55777373011\n",
      "RMS Test Error 419.82790616\n"
     ]
    }
   ],
   "source": [
    "X_TRAIN = np.load('../output/bar_X_TRAIN.npy')\n",
    "Y_TRAIN = np.load('../output/bar_Y_TRAIN.npy')\n",
    "\n",
    "X_TEST = np.load('../output/bar_X_TEST.npy')\n",
    "Y_TEST = np.load('../output/bar_Y_TEST.npy')\n",
    "\n",
    "n_samples = 10000\n",
    "\n",
    "def getRMS_error(model, X, Y): \n",
    "    Y_predict = model.predict(X)\n",
    "    MSE = (Y-Y_predict)**2\n",
    "    RMS_errors = np.sqrt(np.average(MSE))\n",
    "    return RMS_errors, MSE \n",
    "\n",
    "MLP = MLP.fit(X_TRAIN[:n_samples], Y_TRAIN[:n_samples])\n",
    "\n",
    "\n",
    "RMS_train, MSE_train = getRMS_error(MLP, X_TRAIN[:n_samples], Y_TRAIN[:n_samples])\n",
    "RMS_test, MSE_test = getRMS_error(MLP, X_TEST[:n_samples], Y_TEST[:n_samples])\n",
    "print 'RMS Training Error', RMS_train\n",
    "print 'RMS Test Error', RMS_test\n",
    "#neural_network."
   ]
  },
  {
   "cell_type": "code",
   "execution_count": null,
   "metadata": {
    "collapsed": true
   },
   "outputs": [],
   "source": [
    "# Run `pip install sigopt` to download the python API client\n",
    "import math\n",
    "import sigopt\n",
    "conn = sigopt.Connection(client_token=\"BPNMNMBUFKVDKJDUEBULARYOGQQAUQFFYEEQQPQHCQZQUNAJ\")\n",
    "\n",
    "# Create an experiment with two parameters, x and y\n",
    "experiment = conn.experiments().create(\n",
    "  name=\"RF Optimization\",\n",
    "  parameters=[\n",
    "    {'name': 'x', 'bounds': {'max': 1, 'min': 0}, 'type': 'double', 'precision' : 4},\n",
    "    {'name': 'y', 'bounds': {'max': 1, 'min': 0}, 'type': 'double', 'precision' : 4},\n",
    "  ],\n",
    ")\n",
    "print(\"Created an experiment with id {0}.\".format(experiment.id))\n",
    "\n",
    "# Receive a suggestion from SigOpt and evaluate our example function\n",
    "# Franke function - http://www.sfu.ca/~ssurjano/franke2d.html\n",
    "def evaluate_metric(x, y):\n",
    "  e1 = - (math.pow((9 * x - 2), 2)/4) - (math.pow((9 * y - 2), 2)/4)\n",
    "  e2 = - (math.pow((9 * x + 1), 2)/49) - ((9 * y + 1)/10 )\n",
    "  e3 = - (math.pow((9 * x - 7), 2)/4) - (math.pow((9 * y - 3), 2)/4)\n",
    "  e4 = - (math.pow((9 * x - 4), 2)) - (math.pow((9 * y - 7), 2))\n",
    "\n",
    "  return (0.75 * math.exp(e1) + 0.75 * math.exp(e2) + 0.5 * math.exp(e3) - 0.2 * math.exp(e4))\n",
    "\n",
    "\n",
    "\n",
    "\n",
    "\n",
    "\n",
    "# In a loop: receive a suggestion, evaluate our metric, then report an observation\n",
    "for _ in range(20):\n",
    "  suggestion = conn.experiments(experiment.id).suggestions().create()\n",
    "  x = suggestion.assignments['x']\n",
    "  y = suggestion.assignments['y']\n",
    "  print(\"Received a suggestion with x={x} and y={y}.\".format(x=x, y=y))\n",
    "  value = evaluate_metric(x, y)\n",
    "  print(\"The function evaluated to {0} using these parameters.\".format(value))\n",
    "  conn.experiments(experiment.id).observations().create(\n",
    "    suggestion=suggestion.id,\n",
    "    value=value,\n",
    "  )"
   ]
  }
 ],
 "metadata": {
  "kernelspec": {
   "display_name": "Python 2",
   "language": "python",
   "name": "python2"
  },
  "language_info": {
   "codemirror_mode": {
    "name": "ipython",
    "version": 2
   },
   "file_extension": ".py",
   "mimetype": "text/x-python",
   "name": "python",
   "nbconvert_exporter": "python",
   "pygments_lexer": "ipython2",
   "version": "2.7.11"
  }
 },
 "nbformat": 4,
 "nbformat_minor": 0
}
