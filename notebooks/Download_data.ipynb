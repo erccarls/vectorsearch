{
 "cells": [
  {
   "cell_type": "code",
   "execution_count": null,
   "metadata": {
    "collapsed": false
   },
   "outputs": [],
   "source": [
    "import sys\n",
    "sys.path.append('../../yelp_dataset_challenge/')\n",
    "import yelp_util\n",
    "yelp_util.download(file_list=[\"yelp_academic_dataset_business.pickle\",\n",
    "                              \"yelp_academic_dataset_review.pickle\",\n",
    "                              \"yelp_academic_dataset_user.pickle\",\n",
    "                              \"yelp_academic_dataset_checkin.pickle\",\n",
    "                              \"yelp_academic_dataset_tip.pickle\"])\n"
   ]
  },
  {
   "cell_type": "code",
   "execution_count": 4,
   "metadata": {
    "collapsed": false
   },
   "outputs": [
    {
     "name": "stdout",
     "output_type": "stream",
     "text": [
      "Collecting tensorflow==0.8.0 from https://storage.googleapis.com/tensorflow/linux/cpu/tensorflow-0.8.0-cp27-none-linux_x86_64.whl\n",
      "  Using cached https://storage.googleapis.com/tensorflow/linux/cpu/tensorflow-0.8.0-cp27-none-linux_x86_64.whl\n",
      "Requirement already up-to-date: numpy>=1.8.2 in /home/carlson/anaconda/lib/python2.7/site-packages (from tensorflow==0.8.0)\n",
      "Requirement already up-to-date: six>=1.10.0 in /home/carlson/anaconda/lib/python2.7/site-packages (from tensorflow==0.8.0)\n",
      "Collecting protobuf==3.0.0b2 (from tensorflow==0.8.0)\n",
      "  Using cached protobuf-3.0.0b2-py2.py3-none-any.whl\n",
      "Requirement already up-to-date: wheel in /home/carlson/anaconda/lib/python2.7/site-packages (from tensorflow==0.8.0)\n",
      "Collecting setuptools (from protobuf==3.0.0b2->tensorflow==0.8.0)\n",
      "  Using cached setuptools-22.0.0-py2.py3-none-any.whl\n",
      "Installing collected packages: setuptools, protobuf, tensorflow\n",
      "  Found existing installation: setuptools 21.2.1\n",
      "\u001b[31mCannot remove entries from nonexistent file /home/carlson/anaconda/lib/python2.7/site-packages/easy-install.pth\u001b[0m\n"
     ]
    }
   ],
   "source": [
    "!pip install --upgrade https://storage.googleapis.com/tensorflow/linux/cpu/tensorflow-0.8.0-cp27-none-linux_x86_64.whl\n",
    "\n"
   ]
  },
  {
   "cell_type": "code",
   "execution_count": null,
   "metadata": {
    "collapsed": true
   },
   "outputs": [],
   "source": []
  },
  {
   "cell_type": "code",
   "execution_count": null,
   "metadata": {
    "collapsed": true
   },
   "outputs": [],
   "source": []
  }
 ],
 "metadata": {
  "kernelspec": {
   "display_name": "Python 2",
   "language": "python",
   "name": "python2"
  },
  "language_info": {
   "codemirror_mode": {
    "name": "ipython",
    "version": 2
   },
   "file_extension": ".py",
   "mimetype": "text/x-python",
   "name": "python",
   "nbconvert_exporter": "python",
   "pygments_lexer": "ipython2",
   "version": "2.7.11"
  }
 },
 "nbformat": 4,
 "nbformat_minor": 0
}
